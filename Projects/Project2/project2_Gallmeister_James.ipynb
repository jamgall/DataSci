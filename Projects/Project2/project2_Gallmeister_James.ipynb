{
 "cells": [
  {
   "cell_type": "markdown",
   "metadata": {},
   "source": [
    "<a id='top'></a>\n",
    "\n",
    "# CSCI 3022: Intro to Data Science - Spring 2019 Practicum 2\n",
    "***\n",
    "\n",
    "This practicum is due on Canvas by **11:59 PM on Friday May 3**. Your solutions to theoretical questions should be done in Markdown/MathJax directly below the associated question.  Your solutions to computational questions should include any specified Python code and results as well as written commentary on your conclusions.  \n",
    "\n",
    "**Here are the rules:** \n",
    "\n",
    "1. All work, code and analysis, must be your own. \n",
    "1. You may use your course notes, posted lecture slides, textbooks, in-class notebooks, and homework solutions as resources.  You may also search online for answers to general knowledge questions like the form of a probability distribution function or how to perform a particular operation in Python/Pandas. \n",
    "1. This is meant to be like a coding portion of your midterm exam. So, the instructional team will be much less helpful than we typically are with homework. For example, we will not check answers, help debug your code, and so on.\n",
    "1. If something is left open-ended, it is because we want to see how you approach the kinds of problems you will encounter in the wild, where it will not always be clear what sort of tests/methods should be applied. Feel free to ask clarifying questions though.\n",
    "2. You may **NOT** post to message boards or other online resources asking for help.\n",
    "3. You may **NOT** copy-paste solutions *from anywhere*.\n",
    "4. You may **NOT** collaborate with classmates or anyone else.\n",
    "5. In short, **your work must be your own**. It really is that simple.\n",
    "\n",
    "Violation of the above rules will result in an immediate academic sanction (*at the very least*, you will receive a 0 on this practicum or an F in the course, depending on severity), and a trip to the Honor Code Council.\n",
    "\n",
    "**By submitting this assignment, you agree to abide by the rules given above.**\n",
    "\n",
    "***\n",
    "\n",
    "**Name**:  James Gallmeister\n",
    "\n",
    "***\n",
    "\n",
    "\n",
    "**NOTES**: \n",
    "\n",
    "- You may not use late days on the practicums nor can you drop your practicum grades. \n",
    "- If you have a question for us, post it as a **PRIVATE** message on Piazza.  If we decide that the question is appropriate for the entire class, then we will add it to a Practicum clarifications thread. \n",
    "- Do **NOT** load or use any Python packages that are not available in Anaconda 3.6. \n",
    "- Some problems with code may be autograded.  If we provide a function API **do not** change it.  If we do not provide a function API then you're free to structure your code however you like. \n",
    "- Submit only this Jupyter notebook to Canvas.  Do not compress it using tar, rar, zip, etc. \n",
    "- This should go without saying, but... For any question that asks you to calculate something, you **must show all work to receive credit**. Sparse or nonexistent work will receive sparse or nonexistent credit.\n",
    "\n",
    "---\n",
    "**Shortcuts:**  [Problem 1](#p1) | [Problem 2](#p2) | [Bottom](#bot)\n",
    "\n",
    "---"
   ]
  },
  {
   "cell_type": "code",
   "execution_count": 1,
   "metadata": {},
   "outputs": [],
   "source": [
    "# import whatever packages you think you will need here!\n",
    "import numpy as np\n",
    "import pandas as pd\n",
    "import matplotlib.pyplot as plt\n",
    "import scipy.stats as stats\n",
    "import statsmodels.api as sm\n",
    "%matplotlib inline"
   ]
  },
  {
   "cell_type": "markdown",
   "metadata": {},
   "source": [
    "<br>\n",
    "\n",
    "---\n",
    "<a id='p1'></a>\n",
    "[Back to top](#top)\n",
    "\n",
    "### [30 points] Problem 1:  What's the best Oreo flavor?\n",
    "\n",
    "> <img src=\"https://media2.s-nbcnews.com/j/newscms/2015_52/1351976/151223-watermelon-oreos-flickr-yh-1234p_a4c4ba1016261e5d799a789666948a6e.fit-760w.jpg\" style=\"width: 400px;\"/>\n",
    "**Figure 1.** Watermelon Oreos. These are undeniably the absolute _worst_ Oreo flavor, but not a part of our data set. If they were, the problem would be too easy.\n",
    "\n",
    "You're skipping down the road one day, singing a merry tune without a care in the world. Every so often you hop and click your heels together. After one such hop, though, you stumble and nearly trip. Under your feet is a fun data set!\n",
    "\n",
    "In particular, this rascally data set includes ratings from 5 different individuals for 12 different types of Oreo cookie. Because some of the raters are allergic to disgusting flavors of Oreo, not every taster tasted every type of cookie. More information about the data set can be found [here](https://www.kaggle.com/rtatman/oreo-flavors-tastetest-ratings).\n",
    "\n",
    "As you examine the data, a booming voice from the sky instructs you to analyze the data to answer two key questions:\n",
    "1. is there some difference in mean rating given to different flavors of Oreo? and\n",
    "2. which flavor (out of those in the data set) is the best?\n",
    "\n",
    "**Part A:** Load the data set as a Pandas DataFrame. Then, process it as you see fit. For the analysis, you might create a new DataFrame, or other kinds of Python objects to use the data. Do what feels right, and include an **explanation** in Markdown of how you are processing the data. You **may not** alter the original data file."
   ]
  },
  {
   "cell_type": "code",
   "execution_count": 5,
   "metadata": {},
   "outputs": [
    {
     "data": {
      "text/html": [
       "<div>\n",
       "<style scoped>\n",
       "    .dataframe tbody tr th:only-of-type {\n",
       "        vertical-align: middle;\n",
       "    }\n",
       "\n",
       "    .dataframe tbody tr th {\n",
       "        vertical-align: top;\n",
       "    }\n",
       "\n",
       "    .dataframe thead th {\n",
       "        text-align: right;\n",
       "    }\n",
       "</style>\n",
       "<table border=\"1\" class=\"dataframe\">\n",
       "  <thead>\n",
       "    <tr style=\"text-align: right;\">\n",
       "      <th>oreo_flavor</th>\n",
       "      <th>pb&amp;j</th>\n",
       "      <th>mega stuf</th>\n",
       "      <th>lemon</th>\n",
       "      <th>chocolate</th>\n",
       "      <th>birthday cake</th>\n",
       "      <th>double stuf</th>\n",
       "      <th>red velvet</th>\n",
       "      <th>Dunkin' Donuts Mocha</th>\n",
       "      <th>mini</th>\n",
       "      <th>thins, coconut</th>\n",
       "      <th>mint</th>\n",
       "      <th>cinnamon bun</th>\n",
       "    </tr>\n",
       "  </thead>\n",
       "  <tbody>\n",
       "    <tr>\n",
       "      <th>rater_n</th>\n",
       "      <td>1.5</td>\n",
       "      <td>2.5</td>\n",
       "      <td>4.5</td>\n",
       "      <td>3.5</td>\n",
       "      <td>2.5</td>\n",
       "      <td>3.5</td>\n",
       "      <td>4</td>\n",
       "      <td>2.5</td>\n",
       "      <td>3</td>\n",
       "      <td>3.5</td>\n",
       "      <td>3.5</td>\n",
       "      <td>NaN</td>\n",
       "    </tr>\n",
       "    <tr>\n",
       "      <th>rater_c</th>\n",
       "      <td>4</td>\n",
       "      <td>3</td>\n",
       "      <td>3.5</td>\n",
       "      <td>3</td>\n",
       "      <td>5</td>\n",
       "      <td>4</td>\n",
       "      <td>3</td>\n",
       "      <td>1</td>\n",
       "      <td>4</td>\n",
       "      <td>4.5</td>\n",
       "      <td>4</td>\n",
       "      <td>4.5</td>\n",
       "    </tr>\n",
       "    <tr>\n",
       "      <th>rater_r</th>\n",
       "      <td>2</td>\n",
       "      <td>4</td>\n",
       "      <td>1.5</td>\n",
       "      <td>3.5</td>\n",
       "      <td>2.5</td>\n",
       "      <td>3</td>\n",
       "      <td>4.5</td>\n",
       "      <td>5</td>\n",
       "      <td>4</td>\n",
       "      <td>3</td>\n",
       "      <td>4.5</td>\n",
       "      <td>4.5</td>\n",
       "    </tr>\n",
       "    <tr>\n",
       "      <th>rater_k</th>\n",
       "      <td>NaN</td>\n",
       "      <td>NaN</td>\n",
       "      <td>NaN</td>\n",
       "      <td>3</td>\n",
       "      <td>4</td>\n",
       "      <td>3</td>\n",
       "      <td>4</td>\n",
       "      <td>5</td>\n",
       "      <td>NaN</td>\n",
       "      <td>4.5</td>\n",
       "      <td>4</td>\n",
       "      <td>4.5</td>\n",
       "    </tr>\n",
       "    <tr>\n",
       "      <th>rater_a</th>\n",
       "      <td>NaN</td>\n",
       "      <td>1.5</td>\n",
       "      <td>3.5</td>\n",
       "      <td>4</td>\n",
       "      <td>3</td>\n",
       "      <td>3.5</td>\n",
       "      <td>2.5</td>\n",
       "      <td>5</td>\n",
       "      <td>4.25</td>\n",
       "      <td>4.5</td>\n",
       "      <td>4.25</td>\n",
       "      <td>4</td>\n",
       "    </tr>\n",
       "    <tr>\n",
       "      <th>average_across_raters</th>\n",
       "      <td>2.5</td>\n",
       "      <td>2.75</td>\n",
       "      <td>3.25</td>\n",
       "      <td>3.4</td>\n",
       "      <td>3.4</td>\n",
       "      <td>3.4</td>\n",
       "      <td>3.6</td>\n",
       "      <td>3.7</td>\n",
       "      <td>3.8125</td>\n",
       "      <td>4</td>\n",
       "      <td>4.05</td>\n",
       "      <td>4.375</td>\n",
       "    </tr>\n",
       "  </tbody>\n",
       "</table>\n",
       "</div>"
      ],
      "text/plain": [
       "oreo_flavor           pb&j mega stuf lemon chocolate birthday cake  \\\n",
       "rater_n                1.5       2.5   4.5       3.5           2.5   \n",
       "rater_c                  4         3   3.5         3             5   \n",
       "rater_r                  2         4   1.5       3.5           2.5   \n",
       "rater_k                NaN       NaN   NaN         3             4   \n",
       "rater_a                NaN       1.5   3.5         4             3   \n",
       "average_across_raters  2.5      2.75  3.25       3.4           3.4   \n",
       "\n",
       "oreo_flavor           double stuf red velvet Dunkin' Donuts Mocha    mini  \\\n",
       "rater_n                       3.5          4                  2.5       3   \n",
       "rater_c                         4          3                    1       4   \n",
       "rater_r                         3        4.5                    5       4   \n",
       "rater_k                         3          4                    5     NaN   \n",
       "rater_a                       3.5        2.5                    5    4.25   \n",
       "average_across_raters         3.4        3.6                  3.7  3.8125   \n",
       "\n",
       "oreo_flavor           thins, coconut  mint cinnamon bun  \n",
       "rater_n                          3.5   3.5          NaN  \n",
       "rater_c                          4.5     4          4.5  \n",
       "rater_r                            3   4.5          4.5  \n",
       "rater_k                          4.5     4          4.5  \n",
       "rater_a                          4.5  4.25            4  \n",
       "average_across_raters              4  4.05        4.375  "
      ]
     },
     "execution_count": 5,
     "metadata": {},
     "output_type": "execute_result"
    }
   ],
   "source": [
    "df = pd.read_csv('oreo_rankings.csv', na_values='-')\n",
    "df = df.drop('notes_and_discussion', axis=1)\n",
    "\n",
    "dfA = df.T\n",
    "dfA.columns = dfA.iloc[0]\n",
    "dfA = dfA[1:]\n",
    "flavs = {}\n",
    "\n",
    "for x in range(len(df.index)):\n",
    "    key = list(df.iloc[x])[0]\n",
    "    temp = list(df.iloc[x])[1:7]\n",
    "    temp = np.array([_ for _ in temp if str(_) != 'nan'])\n",
    "    flavs[key] = temp\n",
    "\n",
    "dfA.head(8)"
   ]
  },
  {
   "cell_type": "markdown",
   "metadata": {},
   "source": [
    "**Answer A**\n",
    "<br>I will be creating a new dataframe that puts the raters as row indices and their respective ratings as features for the row. This is so that I have a dataframe that matches the same structure as the one we worked with in the in-class notebook. I will be dropping the \"notes_and_discussion\" column as that is useless in my mind and won't serve any purpose in our hypothesis testing. I also created a dictionary with each flavor of cookies as the keys and the raters values in lists so that when doing calculations in regards to oreo cookies I don't have to worry about non-values."
   ]
  },
  {
   "cell_type": "markdown",
   "metadata": {},
   "source": [
    "**Part B:** In the remainder of this problem, you will perform some hypothesis tests to examine whether these data suggest there are significant differences in the mean ratings of the different Oreo flavors. Pick a level of significance for these experiments, and explain how you decided to use that significance level. \"Because we used it a lot in class\" is ***not*** a good reason."
   ]
  },
  {
   "cell_type": "markdown",
   "metadata": {
    "collapsed": true
   },
   "source": [
    "**Answer B**\n",
    "<br>I have decided to choose $\\alpha = 0.1$ as my significance level for this problem because our dataset does not contain many values and I believe that if there is to be a significant difference it will not show up at the 1% or even 5% significance level due to the small number of data points."
   ]
  },
  {
   "cell_type": "markdown",
   "metadata": {},
   "source": [
    "**Part C:** Perform an **Analysis of Variance hypothesis test** in order to determine if there is evidence that there is _some_ difference among the mean ratings given to these 12 Oreo flavors. Clearly state your null and alternative hypothesis, and use the significance level identified in **Part B**. You must show **all** calculations **by hand** (and may of course use Python as a calculator, and to compute values from a distribution using the appropriate percent-point-function (ppf) or cumulative distribution function (cdf)).\n",
    "\n",
    "In addition to showing the code for your calculations, make comments **in Markdown** explaining what you are doing."
   ]
  },
  {
   "cell_type": "markdown",
   "metadata": {},
   "source": [
    "**Answer C**\n",
    "<br>For this problem I will be using the following hypothesis' and significance level\n",
    "$$\n",
    "H_0 : \\mu_1 = \\mu_2 = ... = \\mu_i \\\\\n",
    "H_1 : \\mu_i \\ne \\mu_j \\text{ for some i,j} \\\\\n",
    "\\alpha = 0.1\n",
    "$$"
   ]
  },
  {
   "cell_type": "code",
   "execution_count": 6,
   "metadata": {},
   "outputs": [
    {
     "name": "stdout",
     "output_type": "stream",
     "text": [
      "##### Calculations by Hand #####\n",
      "The grand mean of the data is: 3.548\n",
      "The between groups sum of squares is: 11.952 with SSB_df: 11\n",
      "The within groups sum of squares is: 37.759 with SSW_df: 42\n",
      "The total sum of squares is: 49.711\n",
      "Our f-statistic is: 1.209\n",
      "Our p-value is: 0.311\n"
     ]
    }
   ],
   "source": [
    "#n - total number of data points, I - number of groups, grandmn - grand mean\n",
    "n = 54\n",
    "I = len(dfA.columns)\n",
    "grandmn = np.mean(dfA.dropna().values)\n",
    "print('##### Calculations by Hand #####')\n",
    "print('The grand mean of the data is: {0:.3f}'.format(grandmn))\n",
    "\n",
    "#Computing the SSB and SSW => SST\n",
    "ssb = 0\n",
    "ssw = 0\n",
    "for key in flavs.keys():\n",
    "    ssb += (len(flavs[key]) - 1) * ((flavs[key][-1] - grandmn)**2)\n",
    "    ssw += sum((flavs[key][:-1] - flavs[key][-1]) ** 2)\n",
    "\n",
    "ssb_df = I-1\n",
    "ssw_df = n-I\n",
    "print('The between groups sum of squares is: {0:.3f} with SSB_df: {1}'.format(ssb, ssb_df))\n",
    "print('The within groups sum of squares is: {0:.3f} with SSW_df: {1}'.format(ssw, ssw_df))\n",
    "print('The total sum of squares is: {0:.3f}'.format(ssb+ssw))\n",
    "\n",
    "f_stat = (ssb/ssb_df)/(ssw/ssw_df)\n",
    "pval = 1 - stats.f.cdf(f_stat, ssb_df, ssw_df)\n",
    "print('Our f-statistic is: {0:.3f}'.format(f_stat))\n",
    "print('Our p-value is: {0:.3f}'.format(pval))"
   ]
  },
  {
   "cell_type": "markdown",
   "metadata": {},
   "source": [
    "Because the calculated $\\text{p-value} = 0.311$ is greater than the significance level, we conclude that at the 10% significance level there is not enough evidence to reject the null hypothesis. "
   ]
  },
  {
   "cell_type": "markdown",
   "metadata": {},
   "source": [
    "**Analysis for C**\n",
    "<br>For the above calculations here are the formulas I used to calculate each part:\n",
    "$$\n",
    "\\text{The grand mean: } \\overline{\\overline{y}} = \\frac{1}{n} \\sum{\\text{all data points}} \\\\\n",
    "\\text{The group mean: } \\overline{y_i} = \\frac{1}{n_i} \\sum_{j=1}^{n_i}y_{ij} \\\\\n",
    "\\text{The between groups sum of squares: } \\sum_{i=1}^{I} \\sum_{j=1}^{n_i} \\Big(\\overline{y_i} - \\overline{\\overline{y}}\\Big)^2 = \\sum_{i=1}^{I} n_i \\Big(\\overline{y_i} - \\overline{\\overline{y}}\\Big)^2 \\\\\n",
    "\\text{The within groups sum of squares: } \\sum_{i=1}^{I}\\sum_{j=1}^{n_i} (y_{ij} - \\overline{y_i})^2\n",
    "$$"
   ]
  },
  {
   "cell_type": "markdown",
   "metadata": {},
   "source": [
    "**Part D:** Perform a **t hypothesis test** to determine if there is evidence supporting the claim that cinnamon bun Oreos have a higher mean rating than PB&J Oreos. Use the significance level you identified in **Part B**. Clearly state your null and alternative hypotheses, your conclusions, and show all work. Again, you may not use any canned t-test function."
   ]
  },
  {
   "cell_type": "markdown",
   "metadata": {
    "collapsed": true
   },
   "source": [
    "**Answer D**\n",
    "<br>For the following t-test I will be using the following hypothesis' and significance level\n",
    "$$\n",
    "H_0 : \\overline{X}_\\text{Cinnamon} - \\overline{X}_\\text{PB&J} = 0 \\\\\n",
    "H_1 : \\overline{X}_\\text{Cinnamon} - \\overline{X}_\\text{PB&J} > 0 \\\\\n",
    "\\alpha = 0.1\n",
    "$$"
   ]
  },
  {
   "cell_type": "code",
   "execution_count": 12,
   "metadata": {},
   "outputs": [
    {
     "name": "stdout",
     "output_type": "stream",
     "text": [
      "P-Value: 0.016\n",
      "T-Statistic: 2.962\n"
     ]
    }
   ],
   "source": [
    "num = dfA['cinnamon bun']['average_across_raters'] - dfA['pb&j']['average_across_raters']\n",
    "denom = np.sqrt(((np.std(dfA['cinnamon bun'][:-1]) ** 2)/ len(dfA['cinnamon bun'][:-1].dropna().values)) +\n",
    "               ((np.std(dfA['pb&j'][:-1]) ** 2 / (len(dfA['pb&j'][:-1].dropna().values)))))\n",
    "ts = num / denom\n",
    "p_val = 1 - stats.t.cdf(ts, len(dfA['cinnamon bun'][:-1].dropna().values) + (len(dfA['pb&j'][:-1].dropna().values) - 2))\n",
    "print('P-Value: {0:.3f}'.format(p_val))\n",
    "print('T-Statistic: {0:.3f}'.format(ts))"
   ]
  },
  {
   "cell_type": "markdown",
   "metadata": {},
   "source": [
    "Our calculated P-Value, $0.016$ is less than our significance $\\alpha=0.1$ so we can conclude that at the 10% significance level there is enough evidence to reject the null hypothesis."
   ]
  },
  {
   "cell_type": "markdown",
   "metadata": {},
   "source": [
    "**Part E:** Do your results from Parts C and D agree with one another? If they agree, explain how they are in agreement in _words_. If they do not agree, explain why you think they do not agree.\n",
    "\n",
    "_Hint: if they do not agree, consider carefully what assumptions we make in ANOVA and the t-test._"
   ]
  },
  {
   "cell_type": "markdown",
   "metadata": {
    "collapsed": true
   },
   "source": [
    "**Answer E**\n",
    "<br>My results from parts (C) and (D) do not agree with one another. When doing a t-test we would like for our data to resemble some sort of normal distribution and that the variances are roughly the same between groups. In ANOVA we also would like our data to look normally distributed but are testing to see if the variances between groups are roughly equal. This difference in assumptions may account for the fact that these two tests give two different results. Another thing to take into account is that the t-test is only testing the means between two flavors of oreos while the ANOVA is testing over all the flavors."
   ]
  },
  {
   "cell_type": "markdown",
   "metadata": {},
   "source": [
    "<br>\n",
    "\n",
    "---\n",
    "<a id='p2'></a>\n",
    "[Back to top](#top)\n",
    "\n",
    "### [30 points] Problem 2: Multiple Linear Regression to Explain House Hauntings\n",
    "\n",
    "<img src=\"https://s-media-cache-ak0.pinimg.com/originals/09/72/01/09720128cff5de4d4af038cd3fcf7f69.jpg\" style=\"width: 300px;\"/>\n",
    "\n",
    "In an effort to control the skyrocketing prices of real estate in the Colorado Front Range, Governor Polis implemented a cutting edge new intervention. This new program oversaw the introduction of ghosts back into their natural ecosystem, after the ghost population seriously dwindled in recent decades due to overhaunting. However, an unfortunate miscalculation has led to haunted houses becoming a very serious problem in Colorado. Modern problems require modern solutions, so Governor Polis has hired you and the famous hedgehog data scientist/part-time ghostbuster Amy to determine what features of a house may be used to best predict a `haunted` score, related to the probability that a house with the given features is haunted (higher $\\leftrightarrow$ more likely to be haunted).\n",
    "\n",
    "You decide to use multiple linear regression to understand and predict what factors lead to increased haunted house hazard. You collected a data set from Haunted Zillow, the lesser-known database of haunted house prices and attributes. The data cover a variety of potential features, and you'll find this data in the file `houses.csv`. \n",
    "\n",
    "**Response**: \n",
    "\n",
    "- $\\texttt{haunted}$: a haunting score, related to the probability that a house with the given features is haunted (higher $\\leftrightarrow$ more likely to be haunted)\n",
    "\n",
    "**Features**: \n",
    "\n",
    "- $\\texttt{age}$: age of the house, in years\n",
    "- $\\texttt{area}$: square footage of interior of house\n",
    "- $\\texttt{bathrooms}$: number of bathrooms\n",
    "- $\\texttt{distance metro}$: distance to the nearest major metropolitan area (in miles)\n",
    "- $\\texttt{distance cemetery}$: distance to the nearest cemetery (in miles)\n",
    "- $\\texttt{cats}$: the number of cats within a one-block radius of the house\n",
    "- $\\texttt{howls}$: the number of wolf howls heard on an average night in the house's neighborhood\n",
    "- $\\texttt{clouds}$: what percentage of the sky was covered by clouds (fraction, 0-1)\n",
    "- $\\texttt{precipitation}$: amount of precipitation in the past 72 hours (inches)\n",
    "- $\\texttt{misery index}$: an economic indicator for how miserable the average United States citizen is, based on the unemployment rate and the inflation rate. More [here](https://www.stuffyoushouldknow.com/podcasts/whats-the-misery-index.htm) and [here](https://en.wikipedia.org/wiki/Misery_index_(economics)). Higher values correspond to more miserable citizens.\n",
    "- $\\texttt{ice cream sold}$: the number of units of ice cream sold at the farmer's market the week the house was most recently sold"
   ]
  },
  {
   "cell_type": "markdown",
   "metadata": {},
   "source": [
    "**Part A**: Read the data from `houses.csv` into a Pandas DataFrame.  Note that since we will be doing a multiple linear regression we will need all of the features, so you should drop any row in the DataFrame that is missing data. "
   ]
  },
  {
   "cell_type": "code",
   "execution_count": 2,
   "metadata": {},
   "outputs": [
    {
     "data": {
      "text/html": [
       "<div>\n",
       "<style scoped>\n",
       "    .dataframe tbody tr th:only-of-type {\n",
       "        vertical-align: middle;\n",
       "    }\n",
       "\n",
       "    .dataframe tbody tr th {\n",
       "        vertical-align: top;\n",
       "    }\n",
       "\n",
       "    .dataframe thead th {\n",
       "        text-align: right;\n",
       "    }\n",
       "</style>\n",
       "<table border=\"1\" class=\"dataframe\">\n",
       "  <thead>\n",
       "    <tr style=\"text-align: right;\">\n",
       "      <th></th>\n",
       "      <th>age</th>\n",
       "      <th>area</th>\n",
       "      <th>bathrooms</th>\n",
       "      <th>distance metro</th>\n",
       "      <th>distance cemetery</th>\n",
       "      <th>cats</th>\n",
       "      <th>howls</th>\n",
       "      <th>clouds</th>\n",
       "      <th>precipitation</th>\n",
       "      <th>misery index</th>\n",
       "      <th>ice cream sold</th>\n",
       "      <th>haunted</th>\n",
       "    </tr>\n",
       "  </thead>\n",
       "  <tbody>\n",
       "    <tr>\n",
       "      <th>0</th>\n",
       "      <td>65.06</td>\n",
       "      <td>2041</td>\n",
       "      <td>1.0</td>\n",
       "      <td>7.1</td>\n",
       "      <td>10.01</td>\n",
       "      <td>7</td>\n",
       "      <td>3</td>\n",
       "      <td>1.00</td>\n",
       "      <td>0.82</td>\n",
       "      <td>12.99</td>\n",
       "      <td>273</td>\n",
       "      <td>-0.596150</td>\n",
       "    </tr>\n",
       "    <tr>\n",
       "      <th>1</th>\n",
       "      <td>141.48</td>\n",
       "      <td>1564</td>\n",
       "      <td>0.0</td>\n",
       "      <td>7.4</td>\n",
       "      <td>4.07</td>\n",
       "      <td>5</td>\n",
       "      <td>5</td>\n",
       "      <td>1.00</td>\n",
       "      <td>0.99</td>\n",
       "      <td>16.77</td>\n",
       "      <td>184</td>\n",
       "      <td>-0.146465</td>\n",
       "    </tr>\n",
       "    <tr>\n",
       "      <th>2</th>\n",
       "      <td>7.58</td>\n",
       "      <td>1637</td>\n",
       "      <td>3.0</td>\n",
       "      <td>7.0</td>\n",
       "      <td>3.36</td>\n",
       "      <td>2</td>\n",
       "      <td>0</td>\n",
       "      <td>1.00</td>\n",
       "      <td>1.17</td>\n",
       "      <td>16.49</td>\n",
       "      <td>141</td>\n",
       "      <td>-0.303117</td>\n",
       "    </tr>\n",
       "    <tr>\n",
       "      <th>3</th>\n",
       "      <td>51.47</td>\n",
       "      <td>2021</td>\n",
       "      <td>2.0</td>\n",
       "      <td>7.9</td>\n",
       "      <td>3.43</td>\n",
       "      <td>6</td>\n",
       "      <td>8</td>\n",
       "      <td>0.13</td>\n",
       "      <td>0.92</td>\n",
       "      <td>8.28</td>\n",
       "      <td>146</td>\n",
       "      <td>0.339912</td>\n",
       "    </tr>\n",
       "    <tr>\n",
       "      <th>4</th>\n",
       "      <td>259.44</td>\n",
       "      <td>1642</td>\n",
       "      <td>1.0</td>\n",
       "      <td>7.5</td>\n",
       "      <td>3.19</td>\n",
       "      <td>4</td>\n",
       "      <td>1</td>\n",
       "      <td>1.00</td>\n",
       "      <td>1.73</td>\n",
       "      <td>5.90</td>\n",
       "      <td>178</td>\n",
       "      <td>0.724867</td>\n",
       "    </tr>\n",
       "  </tbody>\n",
       "</table>\n",
       "</div>"
      ],
      "text/plain": [
       "      age  area  bathrooms  distance metro  distance cemetery  cats  howls  \\\n",
       "0   65.06  2041        1.0             7.1              10.01     7      3   \n",
       "1  141.48  1564        0.0             7.4               4.07     5      5   \n",
       "2    7.58  1637        3.0             7.0               3.36     2      0   \n",
       "3   51.47  2021        2.0             7.9               3.43     6      8   \n",
       "4  259.44  1642        1.0             7.5               3.19     4      1   \n",
       "\n",
       "   clouds  precipitation  misery index  ice cream sold   haunted  \n",
       "0    1.00           0.82         12.99             273 -0.596150  \n",
       "1    1.00           0.99         16.77             184 -0.146465  \n",
       "2    1.00           1.17         16.49             141 -0.303117  \n",
       "3    0.13           0.92          8.28             146  0.339912  \n",
       "4    1.00           1.73          5.90             178  0.724867  "
      ]
     },
     "execution_count": 2,
     "metadata": {},
     "output_type": "execute_result"
    }
   ],
   "source": [
    "df = pd.read_csv('houses.csv')\n",
    "df = df.dropna()\n",
    "df.head()"
   ]
  },
  {
   "cell_type": "markdown",
   "metadata": {},
   "source": [
    "**Part B**: Perform the appropriate statistical test at the $\\alpha = 0.01$ significance level to determine if _at least one_ of the features is related to the the response $y$.  Clearly describe your methodology and show all computations in Python. "
   ]
  },
  {
   "cell_type": "markdown",
   "metadata": {},
   "source": [
    "**Answer B**\n",
    "<br>For the above statistical test we will use the following hypothesis\n",
    "$$\n",
    "H_0 : \\beta_1 = \\beta_2 = ... = \\beta_n \\\\\n",
    "H_1 : \\beta_i = 0 \\text{ for some }i\n",
    "$$"
   ]
  },
  {
   "cell_type": "code",
   "execution_count": 3,
   "metadata": {
    "scrolled": true
   },
   "outputs": [
    {
     "data": {
      "text/html": [
       "<table class=\"simpletable\">\n",
       "<caption>OLS Regression Results</caption>\n",
       "<tr>\n",
       "  <th>Dep. Variable:</th>         <td>haunted</td>     <th>  R-squared:         </th> <td>   0.948</td>\n",
       "</tr>\n",
       "<tr>\n",
       "  <th>Model:</th>                   <td>OLS</td>       <th>  Adj. R-squared:    </th> <td>   0.938</td>\n",
       "</tr>\n",
       "<tr>\n",
       "  <th>Method:</th>             <td>Least Squares</td>  <th>  F-statistic:       </th> <td>   94.60</td>\n",
       "</tr>\n",
       "<tr>\n",
       "  <th>Date:</th>             <td>Fri, 03 May 2019</td> <th>  Prob (F-statistic):</th> <td>1.97e-32</td>\n",
       "</tr>\n",
       "<tr>\n",
       "  <th>Time:</th>                 <td>10:53:09</td>     <th>  Log-Likelihood:    </th> <td>  13.575</td>\n",
       "</tr>\n",
       "<tr>\n",
       "  <th>No. Observations:</th>      <td>    69</td>      <th>  AIC:               </th> <td>  -3.151</td>\n",
       "</tr>\n",
       "<tr>\n",
       "  <th>Df Residuals:</th>          <td>    57</td>      <th>  BIC:               </th> <td>   23.66</td>\n",
       "</tr>\n",
       "<tr>\n",
       "  <th>Df Model:</th>              <td>    11</td>      <th>                     </th>     <td> </td>   \n",
       "</tr>\n",
       "<tr>\n",
       "  <th>Covariance Type:</th>      <td>nonrobust</td>    <th>                     </th>     <td> </td>   \n",
       "</tr>\n",
       "</table>\n",
       "<table class=\"simpletable\">\n",
       "<tr>\n",
       "          <td></td>             <th>coef</th>     <th>std err</th>      <th>t</th>      <th>P>|t|</th>  <th>[0.025</th>    <th>0.975]</th>  \n",
       "</tr>\n",
       "<tr>\n",
       "  <th>const</th>             <td>    0.3480</td> <td>    0.323</td> <td>    1.078</td> <td> 0.285</td> <td>   -0.298</td> <td>    0.994</td>\n",
       "</tr>\n",
       "<tr>\n",
       "  <th>age</th>               <td>    0.0017</td> <td>    0.000</td> <td>    5.859</td> <td> 0.000</td> <td>    0.001</td> <td>    0.002</td>\n",
       "</tr>\n",
       "<tr>\n",
       "  <th>area</th>              <td>  5.83e-05</td> <td> 6.16e-05</td> <td>    0.946</td> <td> 0.348</td> <td>-6.51e-05</td> <td>    0.000</td>\n",
       "</tr>\n",
       "<tr>\n",
       "  <th>bathrooms</th>         <td>   -0.0411</td> <td>    0.023</td> <td>   -1.806</td> <td> 0.076</td> <td>   -0.087</td> <td>    0.004</td>\n",
       "</tr>\n",
       "<tr>\n",
       "  <th>distance metro</th>    <td>   -0.0142</td> <td>    0.032</td> <td>   -0.443</td> <td> 0.660</td> <td>   -0.079</td> <td>    0.050</td>\n",
       "</tr>\n",
       "<tr>\n",
       "  <th>distance cemetery</th> <td>   -0.1000</td> <td>    0.003</td> <td>  -30.867</td> <td> 0.000</td> <td>   -0.106</td> <td>   -0.093</td>\n",
       "</tr>\n",
       "<tr>\n",
       "  <th>cats</th>              <td>    0.0316</td> <td>    0.010</td> <td>    3.258</td> <td> 0.002</td> <td>    0.012</td> <td>    0.051</td>\n",
       "</tr>\n",
       "<tr>\n",
       "  <th>howls</th>             <td>    0.0056</td> <td>    0.011</td> <td>    0.494</td> <td> 0.623</td> <td>   -0.017</td> <td>    0.029</td>\n",
       "</tr>\n",
       "<tr>\n",
       "  <th>clouds</th>            <td>    0.0902</td> <td>    0.123</td> <td>    0.734</td> <td> 0.466</td> <td>   -0.156</td> <td>    0.336</td>\n",
       "</tr>\n",
       "<tr>\n",
       "  <th>precipitation</th>     <td>    0.0068</td> <td>    0.067</td> <td>    0.102</td> <td> 0.919</td> <td>   -0.128</td> <td>    0.141</td>\n",
       "</tr>\n",
       "<tr>\n",
       "  <th>misery index</th>      <td>   -0.0082</td> <td>    0.006</td> <td>   -1.456</td> <td> 0.151</td> <td>   -0.020</td> <td>    0.003</td>\n",
       "</tr>\n",
       "<tr>\n",
       "  <th>ice cream sold</th>    <td>   -0.0006</td> <td>    0.001</td> <td>   -1.274</td> <td> 0.208</td> <td>   -0.002</td> <td>    0.000</td>\n",
       "</tr>\n",
       "</table>\n",
       "<table class=\"simpletable\">\n",
       "<tr>\n",
       "  <th>Omnibus:</th>       <td> 1.629</td> <th>  Durbin-Watson:     </th> <td>   2.191</td>\n",
       "</tr>\n",
       "<tr>\n",
       "  <th>Prob(Omnibus):</th> <td> 0.443</td> <th>  Jarque-Bera (JB):  </th> <td>   1.480</td>\n",
       "</tr>\n",
       "<tr>\n",
       "  <th>Skew:</th>          <td> 0.230</td> <th>  Prob(JB):          </th> <td>   0.477</td>\n",
       "</tr>\n",
       "<tr>\n",
       "  <th>Kurtosis:</th>      <td> 2.450</td> <th>  Cond. No.          </th> <td>2.55e+04</td>\n",
       "</tr>\n",
       "</table><br/><br/>Warnings:<br/>[1] Standard Errors assume that the covariance matrix of the errors is correctly specified.<br/>[2] The condition number is large, 2.55e+04. This might indicate that there are<br/>strong multicollinearity or other numerical problems."
      ],
      "text/plain": [
       "<class 'statsmodels.iolib.summary.Summary'>\n",
       "\"\"\"\n",
       "                            OLS Regression Results                            \n",
       "==============================================================================\n",
       "Dep. Variable:                haunted   R-squared:                       0.948\n",
       "Model:                            OLS   Adj. R-squared:                  0.938\n",
       "Method:                 Least Squares   F-statistic:                     94.60\n",
       "Date:                Fri, 03 May 2019   Prob (F-statistic):           1.97e-32\n",
       "Time:                        10:53:09   Log-Likelihood:                 13.575\n",
       "No. Observations:                  69   AIC:                            -3.151\n",
       "Df Residuals:                      57   BIC:                             23.66\n",
       "Df Model:                          11                                         \n",
       "Covariance Type:            nonrobust                                         \n",
       "=====================================================================================\n",
       "                        coef    std err          t      P>|t|      [0.025      0.975]\n",
       "-------------------------------------------------------------------------------------\n",
       "const                 0.3480      0.323      1.078      0.285      -0.298       0.994\n",
       "age                   0.0017      0.000      5.859      0.000       0.001       0.002\n",
       "area                5.83e-05   6.16e-05      0.946      0.348   -6.51e-05       0.000\n",
       "bathrooms            -0.0411      0.023     -1.806      0.076      -0.087       0.004\n",
       "distance metro       -0.0142      0.032     -0.443      0.660      -0.079       0.050\n",
       "distance cemetery    -0.1000      0.003    -30.867      0.000      -0.106      -0.093\n",
       "cats                  0.0316      0.010      3.258      0.002       0.012       0.051\n",
       "howls                 0.0056      0.011      0.494      0.623      -0.017       0.029\n",
       "clouds                0.0902      0.123      0.734      0.466      -0.156       0.336\n",
       "precipitation         0.0068      0.067      0.102      0.919      -0.128       0.141\n",
       "misery index         -0.0082      0.006     -1.456      0.151      -0.020       0.003\n",
       "ice cream sold       -0.0006      0.001     -1.274      0.208      -0.002       0.000\n",
       "==============================================================================\n",
       "Omnibus:                        1.629   Durbin-Watson:                   2.191\n",
       "Prob(Omnibus):                  0.443   Jarque-Bera (JB):                1.480\n",
       "Skew:                           0.230   Prob(JB):                        0.477\n",
       "Kurtosis:                       2.450   Cond. No.                     2.55e+04\n",
       "==============================================================================\n",
       "\n",
       "Warnings:\n",
       "[1] Standard Errors assume that the covariance matrix of the errors is correctly specified.\n",
       "[2] The condition number is large, 2.55e+04. This might indicate that there are\n",
       "strong multicollinearity or other numerical problems.\n",
       "\"\"\""
      ]
     },
     "execution_count": 3,
     "metadata": {},
     "output_type": "execute_result"
    }
   ],
   "source": [
    "#extract the features and response in respective X, Y variables\n",
    "x, y = df.iloc[:,:-1], df['haunted']\n",
    "\n",
    "x = sm.add_constant(x)\n",
    "model = sm.OLS(y,x).fit()\n",
    "model.summary()\n",
    "#model.params"
   ]
  },
  {
   "cell_type": "markdown",
   "metadata": {},
   "source": [
    "Because our model has an $F$-statistic of 94.60 and an associated p-value much less than our $\\alpha = 0.01$ we can reject the null hypothesis stated above and conclude that at least one feature has some effect on the response, y."
   ]
  },
  {
   "cell_type": "markdown",
   "metadata": {},
   "source": [
    "**Part C**: Write a function `forward_select(df, resp_str, maxk)` that takes in the DataFrame, the name of the column corresponding to the response, and the maximum number of desired features, and returns a list of feature names corresponding to the `maxk` most important features via forward selection.  At each stage in forward selection you should add the feature whose inclusion in the model would result in the lowest sum of squared errors $(SSE)$. Use your function to determine the best $k=5$ features to include in the model. Clearly indicate which feature was added in each stage. \n",
    "\n",
    "**Note**: The point of this exercise is to see if you can implement **foward_select** yourself.  You may of course use canned routines like statmodels OLS, but you may not call any Python method that explicitly performs forward selection."
   ]
  },
  {
   "cell_type": "code",
   "execution_count": 4,
   "metadata": {
    "scrolled": false
   },
   "outputs": [
    {
     "name": "stdout",
     "output_type": "stream",
     "text": [
      "The feature added to our model was: distance cemetery\n",
      "The feature added to our model was: age\n",
      "The feature added to our model was: cats\n",
      "The feature added to our model was: area\n",
      "The feature added to our model was: bathrooms\n",
      "\n",
      "                            OLS Regression Results                            \n",
      "==============================================================================\n",
      "Dep. Variable:                haunted   R-squared:                       0.944\n",
      "Model:                            OLS   Adj. R-squared:                  0.940\n",
      "Method:                 Least Squares   F-statistic:                     216.0\n",
      "Date:                Fri, 03 May 2019   Prob (F-statistic):           1.12e-38\n",
      "Time:                        10:53:10   Log-Likelihood:                 11.000\n",
      "No. Observations:                  69   AIC:                            -12.00\n",
      "Df Residuals:                      64   BIC:                           -0.8288\n",
      "Df Model:                           5                                         \n",
      "Covariance Type:            nonrobust                                         \n",
      "=====================================================================================\n",
      "                        coef    std err          t      P>|t|      [0.025      0.975]\n",
      "-------------------------------------------------------------------------------------\n",
      "distance cemetery    -0.1003      0.003    -32.585      0.000      -0.106      -0.094\n",
      "age                   0.0019      0.000      7.148      0.000       0.001       0.002\n",
      "cats                  0.0332      0.009      3.824      0.000       0.016       0.051\n",
      "area               9.764e-05   3.29e-05      2.965      0.004    3.19e-05       0.000\n",
      "bathrooms            -0.0277      0.020     -1.368      0.176      -0.068       0.013\n",
      "==============================================================================\n",
      "Omnibus:                        1.898   Durbin-Watson:                   2.152\n",
      "Prob(Omnibus):                  0.387   Jarque-Bera (JB):                1.718\n",
      "Skew:                           0.272   Prob(JB):                        0.424\n",
      "Kurtosis:                       2.450   Cond. No.                     1.62e+03\n",
      "==============================================================================\n",
      "\n",
      "Warnings:\n",
      "[1] Standard Errors assume that the covariance matrix of the errors is correctly specified.\n",
      "[2] The condition number is large, 1.62e+03. This might indicate that there are\n",
      "strong multicollinearity or other numerical problems.\n"
     ]
    }
   ],
   "source": [
    "# the following function will run a manual forward-selection process\n",
    "def forward_select_fstat(df, resp_str, maxk):\n",
    "    dfA = df\n",
    "    dfA = dfA.drop('haunted', axis=1)\n",
    "    ans = []\n",
    "    y = df[resp_str]\n",
    "    while(len(ans) != maxk):\n",
    "        to_add = ''\n",
    "        mx = 0\n",
    "        cols = list(dfA)\n",
    "        for i in cols:\n",
    "            ans.append(i)\n",
    "            xcur = dfA[i]\n",
    "            xcur = sm.add_constant(xcur)\n",
    "            tstmod = sm.OLS(y, df[ans]).fit()\n",
    "            fstat = tstmod.fvalue\n",
    "            if(fstat > mx):\n",
    "                to_add = i\n",
    "                mx = fstat\n",
    "            ans.pop()\n",
    "        print(\"The feature added to our model was: {0}\".format(to_add))\n",
    "        ans.append(to_add)\n",
    "        dfA = dfA.drop(ans[-1], axis=1)\n",
    "        model = sm.OLS(y, df[ans]).fit()\n",
    "    print(\"\\n{}\".format(model.summary()))\n",
    "    return ans\n",
    "\n",
    "feat = forward_select_fstat(df, 'haunted', 5);"
   ]
  },
  {
   "cell_type": "markdown",
   "metadata": {},
   "source": [
    "  "
   ]
  },
  {
   "cell_type": "markdown",
   "metadata": {},
   "source": [
    "  "
   ]
  },
  {
   "cell_type": "markdown",
   "metadata": {},
   "source": [
    "# PLEASE READ\n",
    "<br>I realized way too late on Friday afternoon that I have completely screwed up part C. Instead of writing a forward select based on lowest SSE I went with the slides which said you can also look for the largest f-statistic and use that. I understand I have made a very stupid mistake and hope you take mercy on me."
   ]
  },
  {
   "cell_type": "markdown",
   "metadata": {},
   "source": [
    "  "
   ]
  },
  {
   "cell_type": "markdown",
   "metadata": {},
   "source": [
    "  "
   ]
  },
  {
   "cell_type": "markdown",
   "metadata": {},
   "source": [
    "**Part D**: Write down the multiple linear regression model, including estimated parameters, obtained by your forward selection process. "
   ]
  },
  {
   "cell_type": "markdown",
   "metadata": {
    "collapsed": true
   },
   "source": [
    "**Answer D**\n",
    "<br>Using my forward selection process (which very well may be terribly wrong) I obtained the following multiple linear regression model:\n",
    "$$\n",
    "y = -0.1003(x_4) + 0.0019(x_0) + 0.0332(x_5) + 0.0000976(x_1) - 0.0277(x_2)\n",
    "$$"
   ]
  },
  {
   "cell_type": "markdown",
   "metadata": {},
   "source": [
    "**Part E**: Perform the appropriate statistical test at the $\\alpha = 0.05$ significance level to determine whether there is a statistically significant difference between the full model with all features and the reduced model obtained by forward selection in **Part D**. "
   ]
  },
  {
   "cell_type": "code",
   "execution_count": 5,
   "metadata": {},
   "outputs": [],
   "source": [
    "sse_red = 0\n",
    "x_red = df[feat]\n",
    "x_red = sm.add_constant(x_red)\n",
    "model_red = sm.OLS(y, x_red).fit()"
   ]
  },
  {
   "cell_type": "code",
   "execution_count": 6,
   "metadata": {
    "scrolled": true
   },
   "outputs": [
    {
     "name": "stdout",
     "output_type": "stream",
     "text": [
      "SSE for the reduced model: 2.917\n"
     ]
    }
   ],
   "source": [
    "y_hat_red = model_red.params[0]\n",
    "for _ in feat:\n",
    "    y_hat_red += model_red.params[_]*x_red[_]\n",
    "sse_red = np.sum((y-y_hat_red)**2)\n",
    "print('SSE for the reduced model: {0:.3f}'.format(sse_red))"
   ]
  },
  {
   "cell_type": "code",
   "execution_count": 7,
   "metadata": {
    "scrolled": true
   },
   "outputs": [
    {
     "name": "stdout",
     "output_type": "stream",
     "text": [
      "SSE for the full model: 2.726\n",
      "The p-value for the comparison between models is: 0.6755144140021556\n"
     ]
    }
   ],
   "source": [
    "sse_full = 0\n",
    "y_hat_full = model.params[0]\n",
    "for _ in list(x.columns[1:]):\n",
    "    y_hat_full += model.params[_]*x[_]\n",
    "sse_full = np.sum((y-y_hat_full) ** 2)\n",
    "print('SSE for the full model: {0:.3f}'.format(sse_full))\n",
    "num = (sse_red-sse_full)/(11-5)\n",
    "denom = sse_full/(69-12)\n",
    "fcomp = num/denom\n",
    "pval = 1 - stats.f.cdf(fcomp, 11-5, 69-12)\n",
    "print('The p-value for the comparison between models is: {0}'.format(pval))"
   ]
  },
  {
   "cell_type": "markdown",
   "metadata": {},
   "source": [
    "**Answer E**\n",
    "<br>We will use the following subset of features hypothesis test to figure out which model is \"better\".\n",
    "$$\n",
    "H_0 : \\beta_{metro} = \\beta_{howls} = \\beta_{clouds} = \\beta_{precip} = \\beta_{misery} = \\beta_{ice cream sold} = 0 \\\\\n",
    "H_1 : \\text{One of the above features is significant to the model}\n",
    "$$\n",
    "<br>Because our $\\text{p-value} = 0.676$ is larger than our $\\alpha = 0.05$ we can conclude that at the 5% significance level we do not have enough evidence to reject the null hypothesis."
   ]
  },
  {
   "cell_type": "markdown",
   "metadata": {},
   "source": [
    "**Part F**: Based on your conclusions in **Part E**, use the _better_ of the two models to predict the haunted-house hazard when the following features are observed: \n",
    "\n",
    "- $\\texttt{age}$: 100 years\n",
    "- $\\texttt{area}$: 2200 square feet\n",
    "- $\\texttt{bathrooms}$: 3 bathrooms\n",
    "- $\\texttt{distance metro}$: 25 miles\n",
    "- $\\texttt{distance cemetery}$: 10 miles\n",
    "- $\\texttt{cats}$: 4 cats\n",
    "- $\\texttt{howls}$: 5 wolf howls/night\n",
    "- $\\texttt{clouds}$: 0.65 cloud cover\n",
    "- $\\texttt{precipitation}$: 0 inches\n",
    "- $\\texttt{misery index}$: 10\n",
    "- $\\texttt{ice cream sold}$: 125"
   ]
  },
  {
   "cell_type": "markdown",
   "metadata": {},
   "source": [
    "**Answer F**\n",
    "<br>My results in E conclude that the reduced model is a _better_ model to fit our data based on the difference in $R^2$ and $R_a^2$ values. The difference between those two values in my reduced model is closer to 0 than in the full model which suggests to me that the reduced model is a _better_ model."
   ]
  },
  {
   "cell_type": "code",
   "execution_count": 8,
   "metadata": {
    "scrolled": true
   },
   "outputs": [
    {
     "name": "stdout",
     "output_type": "stream",
     "text": [
      "The prediction with the reduced model is: -6.033\n"
     ]
    }
   ],
   "source": [
    "pred_red = np.array([100, 2200, 3, 10, 4])\n",
    "print(\"The prediction with the reduced model is: {0:.3f}\".format(model_red.params[0] + np.sum(pred_red*model_red.params[1:])))"
   ]
  },
  {
   "cell_type": "markdown",
   "metadata": {},
   "source": [
    "**Part G:** Governor Polis dabbles a bit in the art of data science, as well as the science of data art. He tells you that the response (`haunted` score) that you and Amy predicted is actually the natural logarithm of the _odds_ that a house with the given features is haunted, where if $p$ is the probability that a house is haunted, then the odds are given by $$\\text{odds} = \\dfrac{p}{1-p}$$\n",
    "\n",
    "What transformation must you make in order to turn your multiple regression model into a logistic regression model, to classify a house a haunted or not? Perform this simple transformation, then use a decision threshold of 0.5 to classify the house from **Part F** as haunted or not haunted. No new models should be fit here; use the same model that you used in Part F."
   ]
  },
  {
   "cell_type": "markdown",
   "metadata": {
    "collapsed": true
   },
   "source": [
    "**Answer G**\n",
    "<br>To turn our MLR model into a LogReg model we need to put our model into the sigmoid function \n",
    "$$sigm(z) = \\frac{1}{1+e^{-(\\beta_0 + \\beta_1x_1 + \\beta_2x_2 + ...)}}$$\n",
    "<br>We can do that with the value found in part $F$ above and we obtain the following function\n",
    "$$\n",
    "sigm(-6.033) = \\frac{1}{1+e^{6.033}} \\\\\n",
    "sigm(-6.033) = \\frac{1}{1+416.96} = \\frac{1}{417.96} = 0.00239\\\\\n",
    "$$"
   ]
  },
  {
   "cell_type": "code",
   "execution_count": 10,
   "metadata": {},
   "outputs": [
    {
     "name": "stdout",
     "output_type": "stream",
     "text": [
      "Before LogReg: -6.033\n",
      "After LogReg: 0.00239\n",
      "Based on the decision threshold of 0.5, the house is NOT haunted.\n"
     ]
    }
   ],
   "source": [
    "#Code to check the above result\n",
    "\n",
    "def sigmoid(x):\n",
    "    return 1/(1+np.exp(-x))\n",
    "\n",
    "yhat_f = model_red.params[0] + np.sum(pred_red*model_red.params[1:])\n",
    "logval = sigmoid(yhat_f)\n",
    "print(\"Before LogReg: {0:.3f}\\nAfter LogReg: {1:.5f}\".format(yhat_f, logval))\n",
    "if(logval > 0.5):\n",
    "    print(\"Based on the decision threshold of 0.5, the house is haunted.\")\n",
    "else:\n",
    "    print(\"Based on the decision threshold of 0.5, the house is NOT haunted.\")"
   ]
  },
  {
   "cell_type": "markdown",
   "metadata": {},
   "source": [
    "<br>\n",
    "\n",
    "---\n",
    "[Back to top](#top)\n",
    "<a id='bot'></a>"
   ]
  }
 ],
 "metadata": {
  "kernelspec": {
   "display_name": "Python 3",
   "language": "python",
   "name": "python3"
  },
  "language_info": {
   "codemirror_mode": {
    "name": "ipython",
    "version": 3
   },
   "file_extension": ".py",
   "mimetype": "text/x-python",
   "name": "python",
   "nbconvert_exporter": "python",
   "pygments_lexer": "ipython3",
   "version": "3.7.1"
  }
 },
 "nbformat": 4,
 "nbformat_minor": 2
}
