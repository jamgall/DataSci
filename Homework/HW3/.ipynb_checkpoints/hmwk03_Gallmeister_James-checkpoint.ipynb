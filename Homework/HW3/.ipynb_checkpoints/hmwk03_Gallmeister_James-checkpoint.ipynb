{
 "cells": [
  {
   "cell_type": "markdown",
   "metadata": {},
   "source": [
    "<a id='top'></a>\n",
    "# Homework 3: Random Variables, and the Central Limit Theorem\n",
    "***\n",
    "\n",
    "**Name**: James Gallmeister\n",
    "\n",
    "***\n",
    "\n",
    "This assignment is due on Canvas by **5 PM on Monday March 18**. Your solutions to theoretical questions should be done in Markdown/MathJax directly below the associated question.  Your solutions to computational questions should include any specified Python code and results as well as written commentary on your conclusions.  Remember that you are encouraged to discuss the problems with your instructors and classmates, but **you must write all code and solutions on your own**. \n",
    "\n",
    "**NOTES**: \n",
    "\n",
    "- Any relevant data sets should be available under the **Data** module on Canvas, as well as in the zipped folder in which you obtained this assignment. \n",
    "- Do **NOT** load or use any Python packages that are not available in Anaconda 3.6. \n",
    "- Because you can technically evaluate notebook cells in a non-linear order, it's a good idea to do Kernel $\\rightarrow$ Restart & Run All as a check before submitting your solutions.  That way if we need to run your code you will know that it will work as expected. \n",
    "- It is **bad form** to make your reader interpret numerical output from your code.  If a question asks you to compute some value from the data you should show your code output **AND** write a summary of the results in Markdown directly below your code. \n",
    "- You **MUST** leave all of your notebook cells **evaluated** so the graders do not need to re-evaluate them. For 100+ students, this extra time adds up, and makes the graders' lives unnecessarily more difficult.\n",
    "- This probably goes without saying, but... For any question that asks you to calculate something, you **must show all work and justify your answers to receive credit**. Sparse or nonexistent work will receive sparse or nonexistent credit. \n",
    "- Submit only this Jupyter notebook to Canvas.  Do not compress it using tar, rar, zip, etc. \n",
    "\n",
    "---\n",
    "**Shortcuts:**  [Problem 1](#p1) | [Problem 2](#p2) | [Problem 3](#p3) | [Problem 4](#p4) \n",
    "\n",
    "---"
   ]
  },
  {
   "cell_type": "code",
   "execution_count": 1,
   "metadata": {
    "scrolled": true
   },
   "outputs": [],
   "source": [
    "import pandas as pd\n",
    "import numpy as np\n",
    "import scipy.stats as stats\n",
    "import math\n",
    "from scipy.special import binom\n",
    "import matplotlib.pylab as plt\n",
    "%matplotlib inline"
   ]
  },
  {
   "cell_type": "markdown",
   "metadata": {},
   "source": [
    "<br>\n",
    "\n",
    "---\n",
    "<a id='p1'></a>\n",
    "[Back to top](#top)\n",
    "\n",
    "<img src=\"https://media.daysoftheyear.com/20171223112636/hedgehog-day1.jpg\" style=\"width: 500px;\"/>\n",
    "\n",
    "\n",
    "### [25 points] Problem 1\n",
    "\n",
    "Suppose you are modeling the probability of observing various levels of cuteness in hedgehogs you encounter.  Let $X$ be a random variable representing the observed cuteness, which is *obviously* nonnegative and has units of deci*awws*. You decide to use the following pdf for $X$:\n",
    "\n",
    "$$\n",
    "f(x) = \\begin{cases}\n",
    "         c \\ x \\ e^{\\left(-\\frac{x^2}{4}\\right)} & 0 \\leq x < \\infty \\\\\n",
    "         0                           & \\text{otherwise}\n",
    "       \\end{cases}\n",
    "$$\n",
    "where $c$ is some normalizing constant.\n",
    "\n",
    "**Part A**: Determine the value of $c$ such that $f(x)$ is a valid probability density function. Then, make a plot of the probability density function for hedgehog cuteness, $f(x)$. Be sure to label your axes!"
   ]
  },
  {
   "cell_type": "markdown",
   "metadata": {
    "collapsed": true
   },
   "source": [
    "**Answer A**\n",
    "<br>To find the constant $c$ above, we can use the fact that \n",
    "$$\n",
    "\\int_{0}^{\\infty}f(x)dx = 1\n",
    "$$\n",
    "\n",
    "To solve for our constant $c$ as follows:\n",
    "$$\n",
    "\\int_{0}^{\\infty}cxe^{\\Big(\\frac{-x^2}{4}\\Big)} = 1\\\\\n",
    "c \\cdot \\int_{0}^{\\infty}xe^{\\Big(\\frac{-x^2}{4}\\Big)} = 1 \\\\\n",
    "\\begin{align}\n",
    "\\text{Let }u &= \\frac{-x^2}{4} \\\\\n",
    "\\text{Then } du &= \\frac{-2x}{4}dx = \\frac{-x}{2}dx \\\\\n",
    "\\text{To use this in our integral, rearrange the terms } \\\\\n",
    "-2du &= xdx \\\\\n",
    "\\text{Substitute that into the integral: } \\\\\n",
    "c \\cdot \\int_{0}^{\\infty}-2e^udu = 1\\\\\n",
    "-2c \\cdot \\int_{0}^{\\infty}e^udu = 1\\\\\n",
    "-2c \\cdot (e^u\\bigl\\vert_{0}^{\\infty} = 1 \\\\\n",
    "-2c \\cdot (e^{\\frac{-x^2}{4}} \\bigl\\vert_{0}^{\\infty} = 1 \\\\\n",
    "-2c \\cdot \\Big(\\frac{1}{e^{\\frac{x^2}{4}}} \\bigl\\vert_{0}^{\\infty} = 1 \\\\\n",
    "-2c \\cdot(0 - 1) = 1 \\\\\n",
    "c = \\frac{1}{2}\n",
    "\\end{align}\n",
    "$$"
   ]
  },
  {
   "cell_type": "code",
   "execution_count": 87,
   "metadata": {},
   "outputs": [
    {
     "data": {
      "image/png": "[encoded data removed]",
      "text/plain": [
       "<Figure size 432x288 with 1 Axes>"
      ]
     },
     "metadata": {
      "needs_background": "light"
     },
     "output_type": "display_data"
    }
   ],
   "source": [
    "# get 1000 x values to plot\n",
    "x = np.linspace(0,10,1000)\n",
    "# use element-wise ops in numpy to get the y values\n",
    "y = (.5)*x*math.e**(-(x ** 2 )/4)\n",
    "\n",
    "_ = plt.plot(x,y, color='seagreen')\n",
    "_ = plt.title('PDF for Cuteness Values')\n",
    "_ = plt.xlabel('Cuteness (decimawwws)')\n",
    "_ = plt.ylabel('Probability of Cuteness Values')"
   ]
  },
  {
   "cell_type": "markdown",
   "metadata": {},
   "source": [
    "**Part B**: Compute *by hand* the cumulative density (cdf) function $F(x)$ for $X$."
   ]
  },
  {
   "cell_type": "markdown",
   "metadata": {
    "collapsed": true
   },
   "source": [
    "**Answer B**\n",
    "<br>Now that we know the pdf $f(x) = \\frac{1}{2}xe^{\\frac{-x^2}{4}}$ we can take the following integral to get the corresponding cdf:\n",
    "$$\n",
    "\\int_{0}^{x} f(t)dt \\\\\n",
    "\\int_{0}^{x} \\frac{1}{2}te^{\\frac{-t^2}{4}} \\\\\n",
    "\\frac{1}{2} \\int_{0}^{x}te^{\\frac{-t^2}{4}} \\\\\n",
    "\\begin{align}\n",
    "\\text{Let } u &= \\frac{-t^2}{4} \\\\\n",
    "\\text{Then } du &= \\frac{-t}{2}dt \\\\\n",
    "\\text{And finally } -2du &= tdt \\\\\n",
    "\\end{align}\n",
    "\\text{Substitute that back into your integral: } \\\\\n",
    "(\\frac{1}{2} \\cdot -2)\\int_{0}^{x} e^udu \\\\\n",
    "- \\int_{0}^{x}e^udu = - \\Big(e^u \\bigl\\vert_{0}^{x} \\\\\n",
    "- \\Big(e^{\\frac{-t^2}{4}} \\bigl\\vert_{0}^{x} \\\\\n",
    "- \\Big( e^{\\frac{-x^2}{4}} - e^{\\frac{0}{4}}\\Big) \\\\\n",
    "- \\Big(e^{\\frac{-x^2}{4}} - e^0\\Big) \\\\\n",
    "\\text{We finally get our cdf: } \\\\\n",
    "F(x) = 1 - e^{(\\frac{-x^2}{4})}\n",
    "$$"
   ]
  },
  {
   "cell_type": "markdown",
   "metadata": {},
   "source": [
    "**Part C:**  Use the cdf you derived in **Part B** to calculate the median ($\\tilde{x}$) cuteness of all hedgehogs."
   ]
  },
  {
   "cell_type": "markdown",
   "metadata": {
    "collapsed": true
   },
   "source": [
    "**Answer C**\n",
    "<br>To find the median ($\\tilde{x}$) cuteness we just need to solve the following equation involving the cdf:\n",
    "$$\n",
    "F(x) = \\frac{1}{2} \\\\\n",
    "1 - e^{\\Big(-\\frac{x^2}{4}\\Big)} = \\frac{1}{2} \\\\\n",
    "e^{\\Big(-\\frac{x^2}{4}\\Big)} = \\frac{1}{2} \\\\\n",
    "ln(e^{\\Big(-\\frac{x^2}{4}\\Big)}) = ln(\\frac{1}{2}) \\\\\n",
    "-\\frac{x^2}{4} = ln(\\frac{1}{2}) \\\\\n",
    "x^2 = (-4)ln(\\frac{1}{2}) \\\\\n",
    "x^2 = (-4)(-0.6931) \\\\\n",
    "x^2 = 2.7726 \\\\\n",
    "\\tilde{x} = 1.6651\n",
    "$$"
   ]
  },
  {
   "cell_type": "markdown",
   "metadata": {},
   "source": [
    "**Part D**: It is a well-known fact that any hedgehog whose cuteness exceeds 3 deciawws is **totes adorbz**. Use the cdf you computed in **Part B** to find the probability that any arbitrary hedgehog that you observe is totes adorbz."
   ]
  },
  {
   "cell_type": "markdown",
   "metadata": {
    "collapsed": true
   },
   "source": [
    "**Answer D**\n",
    "<br>Because we know the cdf, we know that $P(X \\geq 3) = 1 - P(X < 3)$ this can be solved as follows:\n",
    "$$\n",
    "\\begin{align}\n",
    "P(X \\geq 3) &= 1 - P(X < 3) \\\\\n",
    "&= 1 - F(3) \\\\\n",
    "&= 1 - \\Big( 1 - e^{-(\\frac{x^2}{4})}\\Big) \\\\\n",
    "&= 1 - \\Big( 1 - e^{-(\\frac{3^2}{4})}\\Big) \\\\\n",
    "&= 1 - \\Big( 1 - e^{-(\\frac{9}{4})}\\Big) \\\\\n",
    "&= 1 - \\Big( 1 - e^{-(2.25)}\\Big) \\\\\n",
    "&= 1 - \\Big( 1 - 0.1054 \\Big) \\\\\n",
    "&= 1 - 0.8946 \\\\\n",
    "P(X \\geq 3) &= .104 = 10.4\\%\n",
    "\\end{align}\n",
    "$$"
   ]
  },
  {
   "cell_type": "markdown",
   "metadata": {},
   "source": [
    "**Part E:** You have been painstakingly collecting data on hedgehogs all over town, and the cuteness is damn near overwhelming. Suppose you sample 5 hedgehogs, and the cuteness of any given hedgehog is independent of the cuteness of all other hedgehogs. What is the probability that more than half of them are totes adorbz? Keep at least 5 decimal places in your answer."
   ]
  },
  {
   "cell_type": "markdown",
   "metadata": {
    "collapsed": true
   },
   "source": [
    "**Answer E**\n",
    "<br>Because each \"trial\" (hedgehog) in this sample is independent of one another, we can say that they are binomially distributed and can use the following to find the probability we are looking for:\n",
    "$$\n",
    "Y \\sim Bin(5, 0.104) \\\\\n",
    "\\begin{align} \\\\\n",
    "P(Y = 3) = {5 \\choose 3}(0.104)^3(1-0.104)^2 = 10(0.104)^3(0.896)^2 &= 0.00903 \\\\\n",
    "P(Y = 4) = {5 \\choose 4}(0.104)^4(1-0.104) = 5(0.104)^4(0.896) &= 0.0005241 \\\\\n",
    "P(Y = 5) = {5 \\choose 5}(0.104)^5 &= 0.00001\n",
    "\\end{align} \\\\\n",
    "P(Y \\geq 3) = P(Y=3) + P(Y=4) + P(Y=5) \\\\\n",
    "P(Y \\geq 3) = 0.00903 + 0.0005241 + 0.00001 \\\\\n",
    "P(Y \\geq 3) = 0.009564 \\sim 0.9564\\%\n",
    "$$"
   ]
  },
  {
   "cell_type": "markdown",
   "metadata": {
    "collapsed": true
   },
   "source": [
    "<br>\n",
    "\n",
    "---\n",
    "<a id='p2'></a>\n",
    "[Back to top](#top)\n",
    "### [25 points] Problem 2 - Monte Carlo Estimation of Definite Integrals\n",
    "\n",
    "One really cool application of random variables is using them to approximate integrals/area under a curve.  This method of approximating integrals is used frequently in computational science to approximate really difficult integrals that we never want to do by hand.  In this exercise you'll figure out how we can do this in practice and test your method on a relatively simple integral. "
   ]
  },
  {
   "cell_type": "markdown",
   "metadata": {
    "collapsed": true
   },
   "source": [
    "**Part A.**  Let $X$ be a random variable representing how delicious a pie you bake is, as measured by the **Deliciousness Index** (DI).  Suppose the probability density function for $X$ is described by the raised cosine probability density function:\n",
    "\n",
    "$$\n",
    "f(x) = \\begin{cases}\n",
    "         \\dfrac{1}{\\pi}\\left(\\cos{(x)} + 1\\right) & 0 \\leq x \\leq \\pi \\\\\n",
    "         0                           & \\text{otherwise}\n",
    "         \\end{cases}\n",
    "$$\n",
    "\n",
    "A Deliciousness Index of $\\pi$ is the most delicious pie you can ever hope to create, and a DI of $0$ is the most disgusting pie you have ever tasted.  \n",
    "\n",
    "Compute **by hand**, the integral of $f(x)$ for $0 \\leq x \\leq \\dfrac{\\pi}{2}$.  Write a sentence or two to interpret your result physically, in the context of this problem set-up."
   ]
  },
  {
   "cell_type": "markdown",
   "metadata": {
    "collapsed": true
   },
   "source": [
    "**Answer A**\n",
    "<br>This integral can be solved as follows:\n",
    "$$\n",
    "\\begin{align}\n",
    "\\int_{0}^{\\frac{\\pi}{2}} \\frac{1}{\\pi}(cos(x) + 1)dx &= \\frac{1}{\\pi} \\int_{0}^{\\frac{\\pi}{2}}cos(x) + 1 dx\\\\\n",
    "&= \\frac{1}{\\pi} \\Big( sin(x) + x\\bigl\\vert_{0}^{\\frac{\\pi}{2}} \\\\\n",
    "&= \\frac{1}{\\pi} \\Big( 1 + \\frac{\\pi}{2} - 0 + 0) \\\\\n",
    "&= \\frac{2 + \\pi}{2\\pi} \\\\\n",
    "\\end{align}\n",
    "$$"
   ]
  },
  {
   "cell_type": "markdown",
   "metadata": {},
   "source": [
    "**Part B.** Suppose we sample a random variable $X$ from $U(0,\\frac{\\pi}{2})$ and another random variable $Y$ from $U(0,1)$ and think of them as $x$- and $y$-coordinates of a point in the box $[0,\\frac{\\pi}{2}] \\times [0,1]$.  If we compute the ratio of points that fall under the curve $f(x)$ to the total points sampled, what does this value estimate? "
   ]
  },
  {
   "cell_type": "markdown",
   "metadata": {
    "collapsed": true
   },
   "source": [
    "**Answer B**\n",
    "<br>If we were to take the ratio of points that fall under our curve $f(x)$ to the total points sampled we would get an approximation of the integral of $f(x)$ divided by the area of our square."
   ]
  },
  {
   "cell_type": "markdown",
   "metadata": {},
   "source": [
    "**Part C.** How could we modify the process outlined in **Part B** so that our estimator estimates the value of the desired integral?  If you need inspiration, check out the in-class notebook on Stochastic Simulation (#4), specifically, the exercise where we estimated $\\pi$!"
   ]
  },
  {
   "cell_type": "markdown",
   "metadata": {
    "collapsed": true
   },
   "source": [
    "**Answer C**\n",
    "<br>To approximate our integral, we can multiply the ratio found above in part (B) by the area of the square to get an approximate integral for the given bounds."
   ]
  },
  {
   "cell_type": "markdown",
   "metadata": {},
   "source": [
    "**Part D.** Complete the function `integrate` below to compute an approximation to the definition integral $\\int_0^{\\text{ub}} f(x)dx$.  Your function should take as arguments:\n",
    "1. `num_samples` -- the number of points to sample,\n",
    "2. `ub` -- a number between $0$ and $\\pi$ that is the upper bound of the integral, and\n",
    "3. `isPlot` -- a Boolean flag for whether or not to display a plot of the results.\n",
    "\n",
    "Your function should return an approximation of the definite integral by sampling $X$ from $U(0,\\text{ub})$ and $Y$ from $U(0,1)$. For each random draw $(X,Y)$, define the random variable $Z$ that represents whether or not the sampled $Y$ value is less than $f(X)$ for the corresponding $X$ value.\n",
    "\n",
    "Your function should perform three tasks: \n",
    "\n",
    "1. return the estimate of the value of the integral,\n",
    "2. return the sample variance of the random variable $Z$ being simulated, using the np.var function, and\n",
    "3. if `isPlot` is True, plot the curve $f(x)$ as well as the location of the points $(X,Y)$, colored according to whether they fall above or below the curve. "
   ]
  },
  {
   "cell_type": "code",
   "execution_count": 88,
   "metadata": {},
   "outputs": [],
   "source": [
    "# GIVEN CODE - Do not change the inputs/outputs or your code will fail unit tests and auto-grading!\n",
    "def integrate(num_samples, ub, isPlot):\n",
    "    \n",
    "    #-----------------------------------------\n",
    "    # your code goes here!  replace this junk:\n",
    "    under_curve = 0\n",
    "    X = []\n",
    "    Y = []\n",
    "    Z = []\n",
    "    col = []\n",
    "    for ii in range(num_samples):\n",
    "        X.append(np.random.uniform(low=0, high=ub))\n",
    "        val = (1/math.pi)*(math.cos(X[-1]) + 1)\n",
    "        Y.append(np.random.uniform(low=0, high=1))\n",
    "        if (Y[-1] < val):\n",
    "            under_curve += 1\n",
    "            Z.append(Y[-1])\n",
    "            col.append('r')\n",
    "        else:\n",
    "            col.append('b')\n",
    "    estimate = ub*under_curve/num_samples\n",
    "    sample_var = np.var(Z)\n",
    "    #-----------------------------------------\n",
    "    x_plot = np.linspace(0,ub,10000)\n",
    "    y_plot = []\n",
    "    for x in x_plot:\n",
    "        y_plot.append((1/math.pi)*(math.cos(x) + 1))\n",
    "    if (isPlot):\n",
    "        _ = plt.scatter(X, Y, c=col)\n",
    "        _ = plt.xlim(0,ub)\n",
    "        _ = plt.ylim(0,1)\n",
    "        _ = plt.plot(x_plot, y_plot, linewidth=4, color='black')\n",
    "        _ = plt.fill_between(x_plot, y_plot, color='r', alpha=0.3)\n",
    "        _ = plt.title('PDF vs. Uniformly Distributed R.V.')\n",
    "        _ = plt.xlabel('X')\n",
    "        _ = plt.ylabel('Y')\n",
    "    return estimate, sample_var"
   ]
  },
  {
   "cell_type": "markdown",
   "metadata": {},
   "source": [
    "**Part E.** Write your own small unit tests!\n",
    "\n",
    "First, what should your `integrate` function output if you plug in `ub=0`? Set that as `int_0_to_0` below.\n",
    "\n",
    "Second, what should your `integrate` function output if you plug in `ub=`$\\pi$? Set that as `int_0_to_pi` below.\n",
    "\n",
    "Then, you can execute the cell below to run two sanity checks. Write out **in math** (like, a definite integral) what each of these two tests is checking and **why** that is a reasonable sanity check.\n",
    "\n",
    "If these two assertions run without fail, then things seem to be working okay. Note that the upper endpoint test is stochastic, so if it fails, try running it a few times. If it fails a lot, then things are probably going wrong."
   ]
  },
  {
   "cell_type": "code",
   "execution_count": 89,
   "metadata": {},
   "outputs": [],
   "source": [
    "int_0_to_0  = 0# fill this in!\n",
    "int_0_to_pi = 1# this one too!\n",
    "\n",
    "\n",
    "#---------------------------------------\n",
    "# DO NOT EDIT THIS CELL BELOW HERE\n",
    "#---------------------------------------\n",
    "assert integrate(1000, 0, False)[0]==int_0_to_0, \"Error: lower endpoint test failing\"\n",
    "assert math.isclose(integrate(10000, np.pi, False)[0],int_0_to_pi,abs_tol=0.03), \"Error: upper endpoint test failing\""
   ]
  },
  {
   "cell_type": "markdown",
   "metadata": {
    "collapsed": true
   },
   "source": [
    "**Answer E**\n",
    "<br>The above cell is checking the following integrals.\n",
    "$$\n",
    "\\text{The first integral being tested is: } \\\\\n",
    "\\int_{0}^{0} f(x)dx = 0 \\\\\n",
    "\\text{By definition, an integral from one point to that same point is 0} \\\\\n",
    "\\text{The second integral being tested is: } \\\\\n",
    "\\begin{align}\n",
    "\\int_{0}^{\\pi}f(x)dx &= \\frac{1}{\\pi} \\Big( sin(x) + x\\bigl\\vert_{0}^{\\pi} \\\\\n",
    "&= \\frac{1}{\\pi}\\Big( 0 + pi - 0) = 1 \\\\\n",
    "\\end{align}\n",
    "$$"
   ]
  },
  {
   "cell_type": "markdown",
   "metadata": {},
   "source": [
    "**Part F.** Run your simulation with `isPlot=True` and `ub=`$\\frac{\\pi}{2}$ for 1,000 samples so we can see your plot. Then, run your simulation (with `isPlot=False`) with at least 10,000 samples and estimate the value of the given integral. Be sure to leave your cells evaluated for the graders! Does your estimate agree with the exact value of the integral you computed in **Part A**? "
   ]
  },
  {
   "cell_type": "code",
   "execution_count": 90,
   "metadata": {},
   "outputs": [
    {
     "name": "stdout",
     "output_type": "stream",
     "text": [
      "The estimated integral for bounds 0 -> pi/2 is: 0.7838\n",
      "The estimated variance for the points under our curve: 0.0281\n"
     ]
    },
    {
     "data": {
      "image/png": "[encoded data removed]",
      "text/plain": [
       "<Figure size 432x288 with 1 Axes>"
      ]
     },
     "metadata": {
      "needs_background": "light"
     },
     "output_type": "display_data"
    }
   ],
   "source": [
    "est, var = integrate(1000, np.pi/2, True)\n",
    "print('The estimated integral for bounds {0} -> pi/2 is: {1:.4f}'.format(0,est))\n",
    "print('The estimated variance for the points under our curve: {0:.4f}'.format(var))"
   ]
  },
  {
   "cell_type": "markdown",
   "metadata": {
    "collapsed": true
   },
   "source": [
    "<br>\n",
    "\n",
    "---\n",
    "<a id='p3'></a>\n",
    "[Back to top](#top)\n",
    "### [25 points] Problem 3 - Mmmm... Donuts...\n",
    "\n",
    "<img src=\"http://astrokentico.s3.amazonaws.com/rojakdaily/media/1nichoras/homer%20simpson%20krispy%20kreme/main.jpg?ext=.jpg\" style=\"width:300px;\"/>\n",
    "\n",
    "You bring many donuts (or _doughnuts_, if you're into that) to work to share with your coworkers at the Boulder Nuclear Power Planet. But due to the high levels of radiation there, they must be inspected for safety. In particular, if the mean level of radiation in a sample from your batch of donuts is above [200 mSv (millisievert)](#rad), then they are deemed unsafe and you must throw the whole batch away.\n",
    "\n",
    "You know that historically donuts at the power plant have, on average, 190 mSv of radiation, with a standard deviation of 40 mSv. To test the donut radiation levels, you take the donut receipt and pick every fifth donut off it, and sample the radiation levels of those donuts. You end up sampling the radiation levels of 36 donuts out of the batch."
   ]
  },
  {
   "cell_type": "markdown",
   "metadata": {},
   "source": [
    "**Part A.** What is the probability that a donut batch is deemed unsafe?  You should at the very least set up and justify your calculation by hand (in Markdown/Mathjax), before executing any calculations in Python."
   ]
  },
  {
   "cell_type": "markdown",
   "metadata": {
    "collapsed": true
   },
   "source": [
    "**Answer A**\n",
    "<br>To solve this problem we can do the following:\n",
    "$$\n",
    "\\mu = 190 \\\\\n",
    "\\sigma = 40 \\\\\n",
    "n = 36 \\\\\n",
    "\\bar{X} \\sim N(\\mu=190, \\text{var}=\\frac{40^2}{36}) = N(\\mu=190, \\text{var}=\\frac{40}{6}) \\\\\n",
    "P(\\text{Unsafe}) = P(\\bar{X} \\geq 200) \\\\\n",
    "\\text{Let }X = 200 \\text{ Now we can use Box-Muller Transformation to find }Z \\\\\n",
    "X = 200 \\longrightarrow Z = \\frac{200-190}{\\frac{40}{6}} = \\frac{10}{6.667} = 1.5001 \\\\\n",
    "\\text{Now we are looking for } P(Z \\geq 1.5001) \\\\\n",
    "P(Z \\geq 1.5001) = 1 - \\Phi(1.5001)\n",
    "$$\n",
    "We can now do this is python and find a numerical answer for our calculation above."
   ]
  },
  {
   "cell_type": "code",
   "execution_count": 91,
   "metadata": {},
   "outputs": [
    {
     "name": "stdout",
     "output_type": "stream",
     "text": [
      "The probability that a doughnut batch is unsafe is: 6.68%\n"
     ]
    }
   ],
   "source": [
    "p_z = 1 - stats.norm.cdf(1.5001)\n",
    "print(\"The probability that a doughnut batch is unsafe is: {0:.2%}\".format(p_z))"
   ]
  },
  {
   "cell_type": "markdown",
   "metadata": {},
   "source": [
    "**Part B.** You really do not want to throw away donuts that frequently, so you propose to store the donuts in a lead-lined donut box. But lead also is not very good for your health, so you are motivated to use the least amount of lead possible. What is the minimum mean amount of radiation $\\mu$ for our donuts to have such that the probability that we will throw donuts out due to safety concerns is at most 0.01?\n",
    "\n",
    "Calculate this **by hand**, using Python only to perform arithmetic operations and compute critical values of a standard normal random variable."
   ]
  },
  {
   "cell_type": "markdown",
   "metadata": {},
   "source": [
    "**Answer B**\n",
    "<br>To do this problem we can work backwards and utilize the \"percent-point function\" to find our Z value and then plug that into our Box-Muller transformation to solve for $\\mu$.\n",
    "$$\n",
    "\\text{Begin with the following: } \\\\\n",
    "\\alpha = 0.01 \\\\\n",
    "1 - \\alpha = 0.99 = P(z \\leq Z_{\\alpha}) \\\\\n",
    "P(z \\leq Z_{alpha}) = F(z) = 0.99 \\\\\n",
    "F^{-1}(0.99) = z \\\\\n",
    "\\text{Once we have that }z \\text{ value, we can plug our known values into the Box-Muller transformation and perform basic algebra to solve for }\\mu \\\\\n",
    "z = \\frac{200-\\mu}{6.667} \\\\\n",
    "\\mu = 200 - 6.667z\n",
    "$$"
   ]
  },
  {
   "cell_type": "code",
   "execution_count": 92,
   "metadata": {},
   "outputs": [
    {
     "name": "stdout",
     "output_type": "stream",
     "text": [
      "The mu we need for the above conditions to be true is: 184.49\n"
     ]
    }
   ],
   "source": [
    "alpha = 0.01\n",
    "z = stats.norm.ppf(1-alpha)\n",
    "new_mu = 200 - (6.667*z)\n",
    "print(\"The mu we need for the above conditions to be true is: {0:.2f}\".format(new_mu))"
   ]
  },
  {
   "cell_type": "markdown",
   "metadata": {},
   "source": [
    "**Part C.**  Your supervisor at the plant decides that serving up donuts in a lead-lined box is a bad idea. Fair enough.\n",
    "\n",
    "But she is still imposing the requirement that the probability of a batch of donuts being rejected must be less than 0.01. Suppose the mean and standard deviation are at their original values of $\\mu = 190$ mSv and $\\sigma = 40$ mSv. What is the minimum sample size to satisfy this requirement?\n",
    "\n",
    "Calculate this **by hand**, using Python only to perform arithmetic operations and compute critical values of a standard normal random variable."
   ]
  },
  {
   "cell_type": "markdown",
   "metadata": {},
   "source": [
    "**Answer C**\n",
    "<br>We can use the same logic from part B to get the critical value $Z_{\\alpha}$ and then solve the Box-Muller equation for the value of n.\n",
    "$$\n",
    "\\alpha = 0.01 \\\\\n",
    "\\mu = 190 \\\\\n",
    "\\sigma = 40 \\\\\n",
    "1 - \\alpha = 0.99 = P(z \\leq Z_{\\alpha}) \\\\\n",
    "P(z \\leq Z_{alpha}) = F(z) = 0.99 \\\\\n",
    "F^{-1}(0.99) = z \\\\\n",
    "\\text{Now we plug our known values into the Box-Muller transformation and solve for n} \\\\\n",
    "\\begin{align} \\\\\n",
    "z &= \\frac{200 - 190}{\\frac{40}{\\sqrt{n}}} \\\\\n",
    "\\frac{40}{\\sqrt{n}} &= \\frac{10}{z} \\\\\n",
    "\\sqrt{n} &= \\frac{40 \\cdot z}{10} \\\\\n",
    "\\sqrt{n} &= 4z \\\\\n",
    "n &= 16z^2\n",
    "\\end{align}\n",
    "$$"
   ]
  },
  {
   "cell_type": "code",
   "execution_count": 93,
   "metadata": {},
   "outputs": [
    {
     "name": "stdout",
     "output_type": "stream",
     "text": [
      "To meet the conditions specified above we would need a sample size of: 87\n"
     ]
    }
   ],
   "source": [
    "#We have our z-value from the above part B\n",
    "n = 16*(z**2)\n",
    "n = math.ceil(n)\n",
    "print(\"To meet the conditions specified above we would need a sample size of: {0}\".format(n))"
   ]
  },
  {
   "cell_type": "markdown",
   "metadata": {
    "collapsed": true
   },
   "source": [
    "**Part D.** Can you think of any potential issues with using a normal distribution to model the radiation content of our donuts?"
   ]
  },
  {
   "cell_type": "markdown",
   "metadata": {
    "collapsed": true
   },
   "source": [
    "**Answer D**\n",
    "<br>From what I can tell, the normal distribution hides things in the data such as skews in the real distribution of the data because we are normalizing it when converting using Box-Muller to obtain a normal distribution. You lose a little bit of what could be important information about the actual distribution of the raw data if you don't understand what normalizing it does. "
   ]
  },
  {
   "cell_type": "markdown",
   "metadata": {},
   "source": [
    "<br>\n",
    "\n",
    "---\n",
    "<a id='p4'></a>\n",
    "[Back to top](#top)\n",
    "### [25 points] Problem 4 - Here come the hedgehogs\n",
    "\n",
    "**Part A:** You are conducting a study of the cuteness of hedgehogs, because you want to verify the calculations from Problem 1. You set up a data collection center, and record in your data set the time when each hedgehog arrives at your site. The data are found in `arrivals.csv`.\n",
    "\n",
    "Load these data into a Pandas DataFrame, compute the time span between successive hedgehog arrivals, and plot a density histogram of those inter-hedgehog arrival times.\n",
    "\n",
    "To best capture the majesty of the mighty hedgehog, your histogram boxes should be `sienna` with `khaki` edges. Your histogram should also have 50 bins, because hedgehogs love histograms with 50 bins. Hedgehogs are illiterate, so they don't really care about axis labels, but your instructor does. So, be sure to label your axes too."
   ]
  },
  {
   "cell_type": "code",
   "execution_count": 2,
   "metadata": {},
   "outputs": [],
   "source": [
    "my_bins=range(0,100,2)"
   ]
  },
  {
   "cell_type": "code",
   "execution_count": 3,
   "metadata": {},
   "outputs": [
    {
     "data": {
      "image/png": "[encoded data removed]",
      "text/plain": [
       "<Figure size 432x288 with 1 Axes>"
      ]
     },
     "metadata": {
      "needs_background": "light"
     },
     "output_type": "display_data"
    }
   ],
   "source": [
    "df = pd.read_csv('arrivals.csv')\n",
    "interval = df.diff()\n",
    "interval['hedgehogs'].iloc[0] = df['hedgehogs'].iloc[0]\n",
    "plot = interval.hist('hedgehogs', color='sienna', edgecolor='khaki', density=True, bins=np.linspace(0,50));\n",
    "for ax in plot.flatten():\n",
    "    ax.set_xlabel('Number of Hedgehogs');\n",
    "    ax.set_ylabel('Density');"
   ]
  },
  {
   "cell_type": "markdown",
   "metadata": {},
   "source": [
    "**Part B:** Compute a 99% confidence interval (to 4 decimal places) for the mean of the inter-hedgehog arrival time. If you use any theorem(s) in your calculation, be sure to state what they are and why the theorem(s) can be applied. "
   ]
  },
  {
   "cell_type": "markdown",
   "metadata": {},
   "source": [
    "**Answer B**\n",
    "<br>To find the 99% confidence interval for the mean of inter-hedgehog arrival times, we will use the same process that we used in class to compute this. We will use the Central Limit Theorem which says that as our sample size, $n$, gets larger, we can use the following formula to approximate the mean, $\\bar{X}\\sim N(\\mu,\\frac{\\sigma^2}{n})$. We also know that the formula for $Z$ which will be used in our CI calculation as $Z = \\frac{\\bar{X} - \\mu}{\\frac{\\sigma}{\\sqrt{n}}}$ With all that known, we will move on to the actual calculation.\n",
    "<br>\n",
    "$$\n",
    "\\text{We will use the following formula to compute the 99% CI for our interval data.} \\\\\n",
    "\\text{In general: } (1-\\alpha) \\cdot 100\\% \\text{ CI: } [\\bar{X} - Z_{\\frac{\\alpha}{2}}\\Big(\\frac{\\sigma}{\\sqrt{n}}\\Big), \\bar{X} + Z_{\\frac{\\alpha}{2}}\\Big(\\frac{\\sigma}{\\sqrt{n}}\\Big)] \\\\\n",
    "\\text{We will use python numpy to find things such as the mean and standard deviation of our data. } \\\\\n",
    "\\text{From previous problems, we can use the \"percent-point function\" to calculate our } Z_{\\frac{\\alpha}{2}}\n",
    "$$"
   ]
  },
  {
   "cell_type": "code",
   "execution_count": 5,
   "metadata": {},
   "outputs": [
    {
     "name": "stdout",
     "output_type": "stream",
     "text": [
      "Mean: 16.6587\n",
      "Standard Deviation: 10.4651\n",
      "Z: 2.58\n",
      "Using the formula above, our 99% CI is: [13.9631, 19.3543]\n"
     ]
    }
   ],
   "source": [
    "x_bar = np.mean(interval['hedgehogs'])\n",
    "s = np.std(interval['hedgehogs'])\n",
    "z = stats.norm.ppf(0.995)\n",
    "n = len(df.index)\n",
    "print(\"Mean: {0:.4f}\\nStandard Deviation: {1:.4f}\\nZ: {2:.2f}\".format(x_bar,s,z))\n",
    "lower = x_bar - z*s/np.sqrt(n)\n",
    "upper = x_bar + z*s/np.sqrt(n)\n",
    "print(\"Using the formula above, our 99% CI is: [{0:.4f}, {1:.4f}]\".format(lower, upper))"
   ]
  },
  {
   "cell_type": "markdown",
   "metadata": {},
   "source": [
    "**Part C:** Speculate: what would happen if you hadn't included all the data in your confidence interval calculation above? Specifically, if you only observed the first 30 of your data points and used those to compute a confidence interval, would it be wider or less wide? Why? You may assume that the number of data points is the *only* thing changing in this hypothetical situation."
   ]
  },
  {
   "cell_type": "markdown",
   "metadata": {
    "collapsed": true
   },
   "source": [
    "**Answer C**\n",
    "<br>Our confidence interval would be wider with a smaller n. If that is the only thing that changes, then you are dividing by a smaller amount in your bounds calculations for your CI and if the number of samples, $n$, is the only thing changing, you will just be dividing by a smaller number hence what you add and subtract from $\\bar{X}$ will be larger than with the whole sample. "
   ]
  },
  {
   "cell_type": "markdown",
   "metadata": {},
   "source": [
    "**Part D:** Write a function to confirm what you have written above. For each value of $n$ between $30$ and the total number of data points, compute a 90% CI using the first $n$ inter-arrival times. Plot the CIs (vertical axis) against $n$ (horizontal axis). Plot the means as black X symbols, with vertical \"errorbars\" for the CIs colored `sienna`. See Matplotlib's [errorbar](https://matplotlib.org/api/_as_gen/matplotlib.pyplot.errorbar.html) plot type. Be sure to label your axes!"
   ]
  },
  {
   "cell_type": "code",
   "execution_count": 97,
   "metadata": {},
   "outputs": [
    {
     "data": {
      "image/png": "[encoded data removed]",
      "text/plain": [
       "<Figure size 1080x432 with 1 Axes>"
      ]
     },
     "metadata": {
      "needs_background": "light"
     },
     "output_type": "display_data"
    }
   ],
   "source": [
    "def calc_CI():\n",
    "    means = []\n",
    "    fig, ax = plt.subplots(figsize=(15,6))\n",
    "    z = stats.norm.ppf(0.9)\n",
    "    for n in range(30,101):\n",
    "        temp = interval['hedgehogs'].head(n)\n",
    "        x_bar = np.mean(temp)\n",
    "        means.append(x_bar)\n",
    "        s = np.std(temp)\n",
    "        lower = x_bar - z*s/np.sqrt(n)\n",
    "        upper = x_bar + z*s/np.sqrt(n)\n",
    "        ax.errorbar(n, x_bar, marker='x', color='black', yerr=z*s/np.sqrt(n), ecolor='sienna')\n",
    "    plt.xticks(range(30,101,5), fontsize=12)\n",
    "    plt.title('CI for n = [30, 100]')\n",
    "    plt.xlabel('n-value', fontsize=12)\n",
    "    plt.ylabel('CI-values', fontsize=12)\n",
    "    plt.show()\n",
    "calc_CI()"
   ]
  },
  {
   "cell_type": "markdown",
   "metadata": {},
   "source": [
    "**Part E:** Reflect on how your confidence intervals change as the sample sizes $n$ increase from 30 to about 100. Does this make sense? Write a few sentences to reflect on the behavior that you see in your plot from Part D, and why it does/does not make sense."
   ]
  },
  {
   "cell_type": "markdown",
   "metadata": {
    "collapsed": true
   },
   "source": [
    "**Answer E**\n",
    "<br>As $n$ increases, our confidence intervals get a little smaller and the difference in the mean changes with each iteration. This does make sense because as we take a larger number of samples, the sample mean gets closer and closer to the actual mean value so the variance in means gets smaller and smaller with larger and larger sample sizes. It also makes sense that as our sample size increases, our interval gets smaller because as we increase our sample size, the standard error decreases because the denominator of that part of the equation is getting larger with our larger $n$. Everything that I see in this graph makes sense to me and I bet if I were to plot the mean on top of this graph its curvature would follow the same curvature as the means above. "
   ]
  },
  {
   "cell_type": "markdown",
   "metadata": {
    "collapsed": true
   },
   "source": [
    "<br>\n",
    "\n",
    "---\n",
    "### Notes\n",
    "\n",
    "<a id='rad'></a> 200 mSv is somewhere below Chernobyl levels of exposure, but more radiation than you would want with regard to potentially increasing your risk of cancer. It's probably too high, but it is a nice round number! More information [here](https://www.theguardian.com/news/datablog/2011/mar/15/radiation-exposure-levels-guide).\n",
    "\n",
    "[Back to Problem 3](#p3)"
   ]
  }
 ],
 "metadata": {
  "kernelspec": {
   "display_name": "Python 3",
   "language": "python",
   "name": "python3"
  },
  "language_info": {
   "codemirror_mode": {
    "name": "ipython",
    "version": 3
   },
   "file_extension": ".py",
   "mimetype": "text/x-python",
   "name": "python",
   "nbconvert_exporter": "python",
   "pygments_lexer": "ipython3",
   "version": "3.7.1"
  }
 },
 "nbformat": 4,
 "nbformat_minor": 2
}
