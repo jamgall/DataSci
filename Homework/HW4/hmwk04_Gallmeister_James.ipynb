{
 "cells": [
  {
   "cell_type": "markdown",
   "metadata": {},
   "source": [
    "<a id='top'></a>\n",
    "# Homework 4: Confidence intervals, hypothesis testing, and p-values\n",
    "***\n",
    "\n",
    "**Name**: James Gallmeister\n",
    "\n",
    "***\n",
    "\n",
    "This assignment is due on Moodle by **5 PM on Friday 5 April**. Your solutions to theoretical questions should be done in Markdown/MathJax directly below the associated question.  Your solutions to computational questions should include any specified Python code and results as well as written commentary on your conclusions.  Remember that you are encouraged to discuss the problems with your instructors and classmates, but **you must write all code and solutions on your own**. \n",
    "\n",
    "**NOTES**: \n",
    "\n",
    "- Any relevant data sets should be available under the **Data** module on Canvas, as well as in the zipped folder in which you obtained this assignment. \n",
    "- Do **NOT** load or use any Python packages that are not available in Anaconda 3.6. \n",
    "- Because you can technically evaluate notebook cells in a non-linear order, it's a good idea to do Kernel $\\rightarrow$ Restart & Run All as a check before submitting your solutions.  That way if we need to run your code you will know that it will work as expected. \n",
    "- It is **bad form** to make your reader interpret numerical output from your code.  If a question asks you to compute some value from the data you should show your code output **AND** write a summary of the results in Markdown directly below your code. \n",
    "- You **MUST** leave all of your notebook cells **evaluated** so the graders do not need to re-evaluate them. For 100+ students, this extra time adds up, and makes the graders' lives unnecessarily more difficult.\n",
    "- This probably goes without saying, but... For any question that asks you to calculate something, you **must show all work and justify your answers to receive credit**. Sparse or nonexistent work will receive sparse or nonexistent credit. \n",
    "- Submit only this Jupyter notebook to Canvas.  Do not compress it using tar, rar, zip, etc. \n",
    "\n",
    "---\n",
    "**Shortcuts:**  [Problem 1](#p1) | [Problem 2](#p2) | [Problem 3](#p3) | [Problem 4](#p4) | [Problem 5](#p5)  \n",
    "\n",
    "---"
   ]
  },
  {
   "cell_type": "code",
   "execution_count": 2,
   "metadata": {
    "scrolled": true
   },
   "outputs": [],
   "source": [
    "import numpy as np\n",
    "import math\n",
    "import scipy.stats as stats\n",
    "import matplotlib.pyplot as plt\n",
    "import pandas as pd\n",
    "%matplotlib inline"
   ]
  },
  {
   "cell_type": "markdown",
   "metadata": {},
   "source": [
    "<br>\n",
    "\n",
    "---\n",
    "<a id='p1'></a>\n",
    "[Back to top](#top)\n",
    "### [20 points] Problem 1 - Exploring Confidence Intervals \n",
    "\n",
    "The [Gumbel](https://en.wikipedia.org/wiki/Gumbel_distribution) distribution is one of several distributions frequently used to model environmental extremes (for example, extreme temperatures and sea levels).  It is also fairly asymmetric, and thus interesting for investigating confidence intervals.  It is implemented in scipy.stats as [gumbel_r](https://docs.scipy.org/doc/scipy/reference/generated/scipy.stats.gumbel_r.html), where the appendix \"\\_r\" denotes the right-skewed version of the Gumbel distribution (as opposed to the left-skewed)."
   ]
  },
  {
   "cell_type": "markdown",
   "metadata": {},
   "source": [
    "**Part A**: Complete the following code cell to plot a histogram of 100 realizations from the Gumbel distribution with parameters $\\mu=8$ (location) and $\\beta=2$ (scale).  Be sure to leave this cell executed before turning in your assignment! Make your histogram faces coral with gray edges."
   ]
  },
  {
   "cell_type": "code",
   "execution_count": 60,
   "metadata": {},
   "outputs": [
    {
     "data": {
      "image/png": "[encoded data removed]",
      "text/plain": [
       "<Figure size 576x288 with 1 Axes>"
      ]
     },
     "metadata": {
      "needs_background": "light"
     },
     "output_type": "display_data"
    }
   ],
   "source": [
    "mu = 8\n",
    "beta = 2\n",
    "n_sample = 100\n",
    "x = stats.gumbel_r.rvs(loc=8, scale=2, size=100)\n",
    "\n",
    "fig, ax = plt.subplots(nrows=1, ncols=1, figsize=(8,4))\n",
    "ax.hist(x, facecolor='coral', edgecolor='grey');\n",
    "ax.set_title('Histogram of Gumbel Distribution');\n",
    "ax.set_xlabel('Value');\n",
    "ax.set_ylabel('Frequency');\n"
   ]
  },
  {
   "cell_type": "markdown",
   "metadata": {},
   "source": [
    "**Part B:** Look up the analytical mean and variance of the Gumbel distribution with parameters $\\mu=8$ and $\\beta=2$ and calculate them here by hand.  Note that the Euler–Mascheroni constant can be accessed via `np.euler_gamma`. Note that the version of the Gumbel we are using is *right-skewed*, and is the version used to model maximal extreme events.\n",
    "\n",
    "Use the empirical mean from your sample in **Part A**, and the true variance of the Gumbel distribution to compute by hand a 95% confidence interval for the mean."
   ]
  },
  {
   "cell_type": "markdown",
   "metadata": {
    "collapsed": true
   },
   "source": [
    "**Answer B (1)**\n",
    "$$\n",
    "\\text{Gumbel Distribution} \\\\\n",
    "\\begin{align} \\\\\n",
    "\\text{Mean: } \\bar{x} &= \\mu + \\gamma\\beta \\\\\n",
    "\\text{Variance: }\\sigma^2 &= \\frac{1}{6}\\pi^2\\beta^2 \\\\\n",
    "\\end{align} \\\\\n",
    "\\text{We know that we have } \\mu = 8 \\text{ and } \\beta = 2 \\text{ so we just plug those into the formulas above to get: } \\\\\n",
    "\\bar{x} = 8 + \\gamma(2) \\approx 9.1544\\\\\n",
    "\\sigma^2 = \\frac{1}{6}\\pi^2(4) \\approx 6.5797\n",
    "$$\n"
   ]
  },
  {
   "cell_type": "markdown",
   "metadata": {},
   "source": [
    "**Answer B (2)**\n",
    "<br>To compute a 95% confidence interval, we can use the same methods we have in class to solve the following for the endpoints: \n",
    "$$\n",
    "\\text{Our CI will be the following form: }\\\\\n",
    "[\\bar{X} - Z_{\\frac{\\alpha}{2}} \\cdot \\frac{\\sigma}{\\sqrt{n}}, \\bar{X} + Z_{\\frac{\\alpha}{2}} \\cdot \\frac{\\sigma}{\\sqrt{n}}] \\\\\n",
    "\\text{From the computations above and practice in class, we know the following: } \\\\\n",
    "\\begin{align} \\\\\n",
    "Z_{\\frac{\\alpha}{2}} &= 1.96 \\\\\n",
    "\\bar{X} &= 9.2913 \\\\\n",
    "\\sigma^2 &= 6.5797 \\\\\n",
    "n &= 100 \\\\\n",
    "\\end{align} \\\\\n",
    "\\text{Now plugging those numbers in we get: } \\\\\n",
    "[9.4599 - (1.96)\\frac{(2.5651)}{10}, 9.4599 + (1.96)\\frac{(2.5651)}{10}] \\\\\n",
    "[9.4599 - 0.5028, 9.4599 + 0.5028] \\\\\n",
    "[8.9571, 9.9626] \\\\\n",
    "$$"
   ]
  },
  {
   "cell_type": "code",
   "execution_count": 62,
   "metadata": {},
   "outputs": [
    {
     "name": "stdout",
     "output_type": "stream",
     "text": [
      "The analytical mean: 9.1544\n",
      "The analytical variance: 6.5797\n",
      "The empirical mean of our sample is: 9.4599\n",
      "Our 95% CI for the sample is [8.9571, 9.9626]\n"
     ]
    }
   ],
   "source": [
    "#Computing true mean and variance\n",
    "x_bar = mu + np.euler_gamma*beta\n",
    "var = 1/6*np.pi**2*beta**2\n",
    "print(\"The analytical mean: {0:.4f}\".format(x_bar))\n",
    "print(\"The analytical variance: {0:.4f}\".format(var))\n",
    "print(\"The empirical mean of our sample is: {0:.4f}\".format(np.mean(x)))\n",
    "\n",
    "#Confidence Interval Calculation Check\n",
    "z = 1.96\n",
    "samp_mean = np.mean(x)\n",
    "std = np.sqrt(var)\n",
    "n = 100\n",
    "\n",
    "lower = samp_mean - z * std/np.sqrt(100)\n",
    "upper = samp_mean + z * std/np.sqrt(100)\n",
    "print(\"Our 95% CI for the sample is [{0:.4f}, {1:.4f}]\".format(lower,upper))"
   ]
  },
  {
   "cell_type": "markdown",
   "metadata": {},
   "source": [
    "**Part C:  A theoretical interlude.** When Amy, the famous hedgehog data scientist, ran her solution code for **Part B**, she obtained a 95% confidence interval of $[8.81, 9.82]$ for the mean of the $Gum(\\mu=8, \\beta=2)$ distribution. For each of the following, explain why or why not the situation described is correct, given the technical definition of a 95% confidence interval we went over in class.\n",
    "\n",
    "**(i)** If you had no other evidence regarding true mean of the $Gum(\\mu=8, \\beta=2)$ distribution, you could say there is a 95% chance that its true mean falls between 8.81 and 9.82.\n",
    "\n",
    "**(ii)** If a class of 100 students all construct 95% confidence intervals for the mean of the $Gum(\\mu=8, \\beta=2)$ distribution, then we expect about 95 of their CIs to contain the true mean, and about 5 of them to miss the true mean.\n",
    "\n",
    "**(iii)** If we sample 100 random variables from the $Gum(\\mu=8, \\beta=2)$ distribution, then roughly 95% of them will be between 8.81 and 9.82."
   ]
  },
  {
   "cell_type": "markdown",
   "metadata": {
    "collapsed": true
   },
   "source": [
    "**Answer C**\n",
    "<br>**(i)** This interpretation of the CI is incorrect. The CI does not tell us that there is a 95% chance that the true mean lies between those bounds. See part (ii) for the correct interpretation of the CI.\n",
    "<br>**(ii)** As we learned in class, this is the correct interpretation of the CI above. It tells us that if we took $n$ CI's, then the true mean will be present in 95% of those $n$ samples.\n",
    "<br>**(iii)** This is also an incorrect interpretation of the 95% CI. The CI has nothing to do with a specific value. If you did 100 CI's, 95% of those would contain the true mean, not whatever is suggested in part (iii)."
   ]
  },
  {
   "cell_type": "markdown",
   "metadata": {},
   "source": [
    "**Part D:** In this part you'll write a function to investigate the _coverage properties_ of a confidence interval for the mean of the Gumbel distribution. Complete the following function to randomly sample $m=500$ sample means with sample size $n=100$ for the Gumbel distribution with parameters $\\mu=8$ and $\\beta=2$.  For each random sample, compute the 66% confidence interval for the mean. Note that you actually know the variance for the true population distribution, $\\sigma^2$ from Part B.  Your function should do two things: \n",
    "\n",
    "1. Report the proportion of confidence intervals that successfully cover the true mean of the distribution \n",
    "2. Make a plot of 50 randomly selected confidence intervals. Overlay the intervals on the line $y=\\textrm{True mean}$ (from **Part B**). Color confidence intervals steelblue if they cover the true mean, and coral if they don't.  \n",
    "\n",
    "Be sure to leave this cell executed before turning in your assignment!"
   ]
  },
  {
   "cell_type": "code",
   "execution_count": 119,
   "metadata": {
    "scrolled": false
   },
   "outputs": [
    {
     "name": "stdout",
     "output_type": "stream",
     "text": [
      "Out of 50 randomly sampled 66% confidence intervals, 33, or 66% of them contained the true mean, 9.1544\n"
     ]
    },
    {
     "data": {
      "image/png": "[encoded data removed]",
      "text/plain": [
       "<Figure size 1008x504 with 1 Axes>"
      ]
     },
     "metadata": {
      "needs_background": "light"
     },
     "output_type": "display_data"
    }
   ],
   "source": [
    "# GIVEN CODE:\n",
    "import random\n",
    "def confidence_intervals(m=500, n=100):\n",
    "    mu = 8\n",
    "    beta = 2\n",
    "    tru_m = 9.1544\n",
    "    means = []\n",
    "    ci = []\n",
    "    z = stats.norm.ppf(.78)\n",
    "    _in = 0\n",
    "    # Your code goes here!\n",
    "    fig, ax = plt.subplots(figsize=(14,7))\n",
    "    for _ in range(m):\n",
    "        temp = stats.gumbel_r.rvs(loc=8, scale=2, size=n)\n",
    "        means.append(np.mean(temp))\n",
    "        lower = means[-1] - z*(std/np.sqrt(n))\n",
    "        upper = means[-1] + z*(std/np.sqrt(n))\n",
    "        add = z*(std/np.sqrt(n))\n",
    "        ci.append([lower,upper,add])\n",
    "    idx = np.random.choice(np.arange(m), 50, replace=False)\n",
    "    samp_ci = [ci[i] for i in idx]\n",
    "    samp_mean = [means[i] for i in idx]\n",
    "    for _ in range(50):\n",
    "        if (tru_m <= samp_ci[_][1]) and (tru_m >= samp_ci[_][0]):\n",
    "            ax.errorbar(_, samp_mean[_], marker='x', yerr=samp_ci[_][2], color='steelblue');\n",
    "            _in += 1\n",
    "        else:\n",
    "            ax.errorbar(_, samp_mean[_], marker='x', yerr=samp_ci[_][2], color='coral');\n",
    "\n",
    "    ax.plot(np.arange(50), [tru_m]*50, color='red');\n",
    "    ax.set_title('Sample CI vs. True Mean');\n",
    "    ax.set_xlabel('N-Value');\n",
    "    ax.set_ylabel('CI-values');\n",
    "    print('Out of 50 randomly sampled 66% confidence intervals, {0}, or {1:.0%} of them contained the true mean, {2}'.format(_in, _in/50,tru_m))\n",
    "confidence_intervals()        "
   ]
  },
  {
   "cell_type": "markdown",
   "metadata": {},
   "source": [
    "**Part E:** Does the proportion of confidence intervals that cover the true mean of the distribution agree with the theory described in class?  Justify your conclusion. "
   ]
  },
  {
   "cell_type": "markdown",
   "metadata": {
    "collapsed": true
   },
   "source": [
    "**Answer E**\n",
    "<br>Yes, based on our discussions in class, my data shows that around 60% of the confidence intervals calculated randomly contain the true mean. This confirms the meaning behind confidence intervals and how they should be interpreted. In my case, I took 50 confidence intervals from random samples of the same distribution and roughing 66% of those confidence intervals contained the true mean of our distribution which to me tells me that our analysis is correct."
   ]
  },
  {
   "cell_type": "markdown",
   "metadata": {},
   "source": [
    "---\n",
    "\n",
    "<a id='p2'></a>\n",
    "[Back to top](#top)\n",
    "\n",
    "### [20 points] Problem 2 - Taco Town!!\n",
    "\n",
    "You're an intern in the office of the City of Boulder's official Food Rater, and in order to support her in her extremely important job, you have to determine whether Taco Bell or Del Taco has the empirically better tacos. \n",
    "\n",
    "\"Don't worry,\" you tell your boss. \"I'll have you know I graduated top of my class from CU Boulder, and I've been involved in numerous data science operations on difficult data sets - many of which are hedgehog-related - and I have over 300 confirmed confidence intervals. I am trained in Numpy and Pandas and I'm the top data scientist in the entire campus.\"\n",
    "\n",
    "\"Weird flex but OK,\" your boss responds, and gives you the data. The data set consists of 100 diners who ate both Taco Bell and Del Taco, and rated their meal enjoyment at each. As is often the case with fast food taco establishments, each diner ate alone and each meal was followed by about 3 weeks of intense therapy, so the diners and meals may all be considered to be independent of one another. The meal enjoyment ratings are in units of *mehs*, where lower values denote more disgust and a worse meal, and higher values are better."
   ]
  },
  {
   "cell_type": "markdown",
   "metadata": {},
   "source": [
    "**Part A:** Import the data set `taco_time.csv` as a Pandas DataFrame.\n",
    "\n",
    "Then, plot a density histogram of the data. Include both Taco Bell and Del Taco on the same set of axes. Be sure to label your axes, and make the histogram faces slightly transparent and include a legend, so we can tell the two data sets apart. Use colors for each restaurant that are representative of that restaurant's logo or branding.\n",
    "\n",
    "Finally, formulate a hypothesis about which restaurant has the higher mean meal enjoyment."
   ]
  },
  {
   "cell_type": "code",
   "execution_count": 2,
   "metadata": {
    "scrolled": false
   },
   "outputs": [
    {
     "data": {
      "image/png": "[encoded data removed]",
      "text/plain": [
       "<Figure size 504x432 with 1 Axes>"
      ]
     },
     "metadata": {
      "needs_background": "light"
     },
     "output_type": "display_data"
    }
   ],
   "source": [
    "df = pd.read_csv('taco_time.csv', index_col=0)\n",
    "df.head()\n",
    "\n",
    "fig, ax = plt.subplots(figsize=(7,6));\n",
    "ax.hist(df['Del Taco'], color='red', alpha=0.5, label='Del Taco', density=True);\n",
    "ax.hist(df['Taco Bell'], color='purple', alpha=0.5, label='Taco Bell', density=True);\n",
    "ax.legend();\n",
    "ax.grid(alpha=0.5);\n",
    "ax.set_xlabel('Meh Value', fontsize=12);\n",
    "ax.set_ylabel('Density', fontsize=12);\n",
    "ax.set_title('Taco Bell vs. Del Taco', fontsize=13);"
   ]
  },
  {
   "cell_type": "markdown",
   "metadata": {},
   "source": [
    "**Part B:** Compute a 95% confidence interval for the mean enjoyment of Taco Bell meals, and a separate 95% confidence interval for the mean enjoyment of Del Taco meals. You can use Python as a calculator, but the set-up and groundwork for your computation should be in Markdown/MathJax.\n",
    "\n",
    "Based on those confidence intervals, can we conclude that the means are different at the 95% level of confidence?"
   ]
  },
  {
   "cell_type": "markdown",
   "metadata": {
    "collapsed": true
   },
   "source": [
    "**Answer B**\n",
    "<br>Setup for computing 95% confidence interval:\n",
    "$$\n",
    "\\text{From class we know the following variables and formulas: } \\\\\n",
    "\\bar{X} = \\text{The mean of the dataset we are using} \\\\\n",
    "\\sigma^2 = \\text{The variance of the dataset we are using} \\\\\n",
    "\\sigma = \\text{The standard deviation of the dataset we are using} \\\\\n",
    "Z_{\\frac{\\alpha}{2}} = \\text{The critical Z value for the confidence interval} = 1.96 \\\\\n",
    "n = \\text{The number of samples in the dataset we are using} \\\\\n",
    "\\text{With all this information, we can use the following formula to compute the confidence interval} \\\\\n",
    "\\bar{X} \\pm Z_{\\frac{\\alpha}{2}} \\cdot (\\frac{\\sigma}{\\sqrt{n}})\n",
    "$$"
   ]
  },
  {
   "cell_type": "code",
   "execution_count": 3,
   "metadata": {},
   "outputs": [
    {
     "name": "stdout",
     "output_type": "stream",
     "text": [
      "The 95% confidence interval for Taco Bell: [-0.4827, 0.2553]\n",
      "The 95% confidence interval for Del Taco: [-1.2086, -0.4601]\n"
     ]
    }
   ],
   "source": [
    "z = 1.96\n",
    "x_bar = df.mean()\n",
    "std = df.std()\n",
    "n = len(df.index)\n",
    "ci_tb = (x_bar['Taco Bell'] - z*std['Taco Bell']/np.sqrt(n), x_bar['Taco Bell'] + z*std['Taco Bell']/np.sqrt(n))\n",
    "ci_dt = (x_bar['Del Taco'] - z*std['Del Taco']/np.sqrt(n), x_bar['Del Taco'] + z*std['Del Taco']/np.sqrt(n))\n",
    "print('The 95% confidence interval for Taco Bell: [{0:.4f}, {1:.4f}]'.format(ci_tb[0], ci_tb[1]))\n",
    "print('The 95% confidence interval for Del Taco: [{0:.4f}, {1:.4f}]'.format(ci_dt[0], ci_dt[1]))"
   ]
  },
  {
   "cell_type": "markdown",
   "metadata": {},
   "source": [
    "Based on the confidence intervals above, I would conclude that at the 95% significance level, the means are different because the lower endpoint of the Taco Bell confidence interval is the upper endpoint of the Del Taco confidence interval."
   ]
  },
  {
   "cell_type": "markdown",
   "metadata": {},
   "source": [
    "**Part C:** Compute a 95% confidence interval for the difference between the mean enjoyment of Taco Bell and Del Taco food. "
   ]
  },
  {
   "cell_type": "markdown",
   "metadata": {
    "collapsed": true
   },
   "source": [
    "**Answer C**\n",
    "<br>We can use the following confidence interval generalization of the difference of means:\n",
    "$$\n",
    "\\bar{X} - \\bar{Y} \\pm Z_{\\frac{\\alpha}{2}} \\cdot \\sqrt{\\frac{\\sigma_1^2}{m} + \\frac{\\sigma_2^2}{n}} \\\\\n",
    "\\text{In the above equation, the following variables will be used: }\\\\\n",
    "\\begin{align} \\\\\n",
    "\\bar{X} &= \\text{mean for Taco Bell} \\\\\n",
    "\\bar{Y} &= \\text{mean for Del Taco} \\\\\n",
    "Z_{\\frac{\\alpha}{2}} &= 1.96 \\text{(Known from class)} \\\\\n",
    "\\sigma_1^2 &= \\text{the variance of the Taco Bell sample} \\\\\n",
    "\\sigma_2^2 &= \\text{the variance of the Del Taco sample} \\\\\n",
    "m, n &= 100 \\text{number of entries in our samples, same for both} \\\\\n",
    "\\end{align}\n",
    "$$\n",
    "<br><br>We will use Python in the cell below to actually compute this confidence interval."
   ]
  },
  {
   "cell_type": "code",
   "execution_count": 10,
   "metadata": {},
   "outputs": [
    {
     "name": "stdout",
     "output_type": "stream",
     "text": [
      "The 95% confidence interval for the difference in means is: [0.1951, 1.2462]\n"
     ]
    }
   ],
   "source": [
    "var = df.var()\n",
    "lower = x_bar['Taco Bell'] - x_bar['Del Taco'] - z*np.sqrt((var['Taco Bell'] + var['Del Taco'])/n)\n",
    "upper = x_bar['Taco Bell'] - x_bar['Del Taco'] + z*np.sqrt((var['Taco Bell'] + var['Del Taco'])/n)\n",
    "print('The 95% confidence interval for the difference in means is: [{0:.4f}, {1:.4f}]'.format(lower, upper))"
   ]
  },
  {
   "cell_type": "markdown",
   "metadata": {},
   "source": [
    "**Part D:** Comment on how the results from this two-sample confidence interval compare to the results from the separate one-sample confidence intervals. In 1-2 sentences, discuss how these results confirm, disprove, or otherwise relate to your hypothesis from Part A."
   ]
  },
  {
   "cell_type": "markdown",
   "metadata": {
    "collapsed": true
   },
   "source": [
    "**Answer D**\n",
    "<br>The confidence interval above tells us that the means are pretty different. The difference of means confidence interval doesn't contain 0 so this tells us that there is a difference in the means. If our confidence interval were to contain 0, we would not be able to say conclusively that there is a difference in our means but because ours does not contain 0 we can say that there is a difference in means."
   ]
  },
  {
   "cell_type": "markdown",
   "metadata": {},
   "source": [
    "---\n",
    "[Back to top](#top)\n",
    "<a id='p3'></a>\n",
    "\n",
    "### [20 points] Problem 3 - Evaluating Vehicle Performance \n",
    "\n",
    "A [1983 study](http://citeseerx.ist.psu.edu/viewdoc/download?doi=10.1.1.34.6358&rep=rep1&type=pdf) evaluated the gas mileage of a variety of cars manufactured between 1970 and 1983. The study also compiled other interesting attributes for each vehicle, but we will focus on the number of cylinders in the engine for this problem. More information on the data is available [here](https://archive.ics.uci.edu/ml/machine-learning-databases/auto-mpg/). Gas mileage is measured in miles-per-gallon, or mpg.\n",
    "\n",
    "**Part A:** Read the data set and store as a Pandas DataFrame. You will need figure out what additional arguments to `pd.read_csv()` must be provided in order to read the data set properly, based on what represents a separation between two columns of data.\n",
    "\n",
    "Then, be sure to give all of the columns informative names, if they do not already have some.\n",
    "\n",
    "Finally, use `drop_na()` to drop any rows with missing values. Missing values are reported with a \"?\"."
   ]
  },
  {
   "cell_type": "code",
   "execution_count": 2,
   "metadata": {},
   "outputs": [
    {
     "data": {
      "text/html": [
       "<div>\n",
       "<style scoped>\n",
       "    .dataframe tbody tr th:only-of-type {\n",
       "        vertical-align: middle;\n",
       "    }\n",
       "\n",
       "    .dataframe tbody tr th {\n",
       "        vertical-align: top;\n",
       "    }\n",
       "\n",
       "    .dataframe thead th {\n",
       "        text-align: right;\n",
       "    }\n",
       "</style>\n",
       "<table border=\"1\" class=\"dataframe\">\n",
       "  <thead>\n",
       "    <tr style=\"text-align: right;\">\n",
       "      <th></th>\n",
       "      <th>mpg</th>\n",
       "      <th>cylinders</th>\n",
       "      <th>displacement</th>\n",
       "      <th>horsepower</th>\n",
       "      <th>weight</th>\n",
       "      <th>acceleration</th>\n",
       "      <th>model year</th>\n",
       "      <th>origin</th>\n",
       "      <th>car name</th>\n",
       "    </tr>\n",
       "  </thead>\n",
       "  <tbody>\n",
       "    <tr>\n",
       "      <th>0</th>\n",
       "      <td>18.0</td>\n",
       "      <td>8</td>\n",
       "      <td>307.0</td>\n",
       "      <td>130.0</td>\n",
       "      <td>3504.0</td>\n",
       "      <td>12.0</td>\n",
       "      <td>70</td>\n",
       "      <td>1</td>\n",
       "      <td>chevrolet chevelle malibu</td>\n",
       "    </tr>\n",
       "    <tr>\n",
       "      <th>1</th>\n",
       "      <td>15.0</td>\n",
       "      <td>8</td>\n",
       "      <td>350.0</td>\n",
       "      <td>165.0</td>\n",
       "      <td>3693.0</td>\n",
       "      <td>11.5</td>\n",
       "      <td>70</td>\n",
       "      <td>1</td>\n",
       "      <td>buick skylark 320</td>\n",
       "    </tr>\n",
       "    <tr>\n",
       "      <th>2</th>\n",
       "      <td>18.0</td>\n",
       "      <td>8</td>\n",
       "      <td>318.0</td>\n",
       "      <td>150.0</td>\n",
       "      <td>3436.0</td>\n",
       "      <td>11.0</td>\n",
       "      <td>70</td>\n",
       "      <td>1</td>\n",
       "      <td>plymouth satellite</td>\n",
       "    </tr>\n",
       "    <tr>\n",
       "      <th>3</th>\n",
       "      <td>16.0</td>\n",
       "      <td>8</td>\n",
       "      <td>304.0</td>\n",
       "      <td>150.0</td>\n",
       "      <td>3433.0</td>\n",
       "      <td>12.0</td>\n",
       "      <td>70</td>\n",
       "      <td>1</td>\n",
       "      <td>amc rebel sst</td>\n",
       "    </tr>\n",
       "    <tr>\n",
       "      <th>4</th>\n",
       "      <td>17.0</td>\n",
       "      <td>8</td>\n",
       "      <td>302.0</td>\n",
       "      <td>140.0</td>\n",
       "      <td>3449.0</td>\n",
       "      <td>10.5</td>\n",
       "      <td>70</td>\n",
       "      <td>1</td>\n",
       "      <td>ford torino</td>\n",
       "    </tr>\n",
       "  </tbody>\n",
       "</table>\n",
       "</div>"
      ],
      "text/plain": [
       "    mpg  cylinders  displacement horsepower  weight  acceleration  model year  \\\n",
       "0  18.0          8         307.0      130.0  3504.0          12.0          70   \n",
       "1  15.0          8         350.0      165.0  3693.0          11.5          70   \n",
       "2  18.0          8         318.0      150.0  3436.0          11.0          70   \n",
       "3  16.0          8         304.0      150.0  3433.0          12.0          70   \n",
       "4  17.0          8         302.0      140.0  3449.0          10.5          70   \n",
       "\n",
       "   origin                   car name  \n",
       "0       1  chevrolet chevelle malibu  \n",
       "1       1          buick skylark 320  \n",
       "2       1         plymouth satellite  \n",
       "3       1              amc rebel sst  \n",
       "4       1                ford torino  "
      ]
     },
     "execution_count": 2,
     "metadata": {},
     "output_type": "execute_result"
    }
   ],
   "source": [
    "labels = ['mpg', 'cylinders', 'displacement', 'horsepower', 'weight', 'acceleration', 'model year', 'origin', 'car name']\n",
    "dfMPG = pd.read_csv('auto-mpg.data', sep='\\s+', names=labels) # TODO - need extra arguments to read correctly\n",
    "\n",
    "# More processing code should go here!\n",
    "\n",
    "#from reading a little bit about the dataset, the only missing values are in the 'horsepower' column so no need for dropna\n",
    "dfMPG = dfMPG[dfMPG['horsepower'] != '?']\n",
    "dfMPG.head()"
   ]
  },
  {
   "cell_type": "markdown",
   "metadata": {},
   "source": [
    "**Part B**: Assuming the data in this sample are representative of cars from the 1970-1983 time period, find a 90% confidence interval for the mean gas mileage (mpg) of all vehicles from this period. Can we conclude that the mean gas mileage is higher than 20 mpg? Be sure to show all calculations in Python. "
   ]
  },
  {
   "cell_type": "code",
   "execution_count": 3,
   "metadata": {},
   "outputs": [
    {
     "name": "stdout",
     "output_type": "stream",
     "text": [
      "The 90% confidence interval for mean gas mileage is: [22.7994, 24.0924]\n"
     ]
    }
   ],
   "source": [
    "x_bar = dfMPG['mpg'].mean()\n",
    "z = 1.64 #known from previous calculations\n",
    "std = dfMPG['mpg'].std()\n",
    "n = len(dfMPG['mpg'].index)\n",
    "\n",
    "ci = (x_bar - z*std/np.sqrt(n), x_bar + z*std/np.sqrt(n))\n",
    "print('The 90% confidence interval for mean gas mileage is: [{0:.4f}, {1:.4f}]'.format(ci[0], ci[1]))"
   ]
  },
  {
   "cell_type": "markdown",
   "metadata": {},
   "source": [
    "**Answer B**\n",
    "<br>From the confidence interval above, we can only conclude that 90% of the time our true mean will be contained in the interval but because we only calculated one confidence interval, we cannot say for sure that our mean mileage is greater than 20 mpg."
   ]
  },
  {
   "cell_type": "markdown",
   "metadata": {},
   "source": [
    "**Part C**: You are considering buying a new car, but since [gas prices have recently increased dramatically](https://www.energy.gov/eere/vehicles/fact-915-march-7-2016-average-historical-annual-gasoline-pump-price-1929-2015), you are concerned about getting good fuel economy.\n",
    "\n",
    "Using an appropriate *hypothesis test*, can you conclude at the $\\alpha=0.01$ significance level that the mean gas mileage for vehicles with 4 or 6 cylinder engines is more than 10 mpg better than the mean gas mileage for vehicles with 8 cylinder engines? You may consider two populations here: those vehicles with 4 or 6 cylinders, and those vehicles with 8 cylinders in their engines. Be sure to clearly describe your hypotheses and methodology, and show all relevant computations in Python. "
   ]
  },
  {
   "cell_type": "markdown",
   "metadata": {
    "collapsed": true
   },
   "source": [
    "**Answer C**\n",
    "<br>For this difference of means hypothesis test, we first need to define our null and alternative hypthesis'.\n",
    "$$\n",
    "H_0 : \\sigma_1 - \\sigma_2 = 10 \\\\\n",
    "H_1 : \\sigma_1 - \\sigma_2 > 10 \\\\\n",
    "\\text{Now that we have defined both our hypothesis' we will find our corresponding z value with the following formula }\\\\\n",
    "z = \\frac{(\\bar{x}_1 - \\bar{x}_2) - c}{\\sqrt{\\frac{\\sigma_1^2}{n_1}+ \\frac{\\sigma_2^2}{n_2}}} \\\\\n",
    "\\text{Once we have the above z value, we will find the corresponding p-value as follows} \\\\\n",
    "p = 1 - \\Phi(z) \\\\\n",
    "\\text{Now, if } p < 0.01 \\text{ we can conclude that at the 0.01 significance level, there is enough evidence to reject our null hypothesis}\n",
    "$$"
   ]
  },
  {
   "cell_type": "code",
   "execution_count": 4,
   "metadata": {},
   "outputs": [
    {
     "name": "stdout",
     "output_type": "stream",
     "text": [
      "### 4 and 6 cylinder car information ###\n",
      "x1 = 26.5436 (mean mileage)\n",
      "sig_1 = 45.0035 (variance)\n",
      "n1 = 282 (samples size)\n",
      "\n",
      "### 8 cylinder car information ###\n",
      "x2 = 14.9631 (mean mileage)\n",
      "sig_2 = 8.0445 (variance)\n",
      "n2 = 103 (sample size)\n",
      "\n",
      "### Calculations ###\n",
      "z = 3.24\n",
      "p = 0.000594\n",
      "Because p = 0.000594 < 0.01, we can conclude that at the 0.01 significance level there is enough evidence to reject the null hypothesis\n"
     ]
    }
   ],
   "source": [
    "c = 10\n",
    "x_bar_1 = dfMPG[(dfMPG.cylinders == 4) | (dfMPG.cylinders == 6)].mean()\n",
    "x_bar_2 = dfMPG[dfMPG.cylinders == 8].mean()\n",
    "var_1 = dfMPG[(dfMPG.cylinders == 4) | (dfMPG.cylinders == 6)].var()\n",
    "var_2 = dfMPG[dfMPG.cylinders == 8].var()\n",
    "n1 = len(dfMPG[(dfMPG.cylinders == 4) | (dfMPG.cylinders == 6)].index)\n",
    "n2 = len(dfMPG[dfMPG.cylinders == 8].index)\n",
    "print('### 4 and 6 cylinder car information ###')\n",
    "print(\"x1 = {0:.4f} (mean mileage)\".format(x_bar_1['mpg']))\n",
    "print(\"sig_1 = {0:.4f} (variance)\".format(var_1['mpg']))\n",
    "print(\"n1 = {} (samples size)\\n\".format(n1))\n",
    "\n",
    "print(\"### 8 cylinder car information ###\")\n",
    "print(\"x2 = {0:.4f} (mean mileage)\".format(x_bar_2['mpg']))\n",
    "print(\"sig_2 = {0:.4f} (variance)\".format(var_2['mpg']))\n",
    "print(\"n2 = {} (sample size)\\n\".format(n2))\n",
    "\n",
    "z = (x_bar_1.mpg - x_bar_2.mpg - c) / (np.sqrt(var_1.mpg/n1 + var_2.mpg/n2))\n",
    "p = 1 - stats.norm.cdf(z)\n",
    "print(\"### Calculations ###\")\n",
    "print(\"z = {0:.2f}\".format(z))\n",
    "print(\"p = {0:.6f}\".format(p))\n",
    "print(\"Because p = {0:.6f} < 0.01, we can conclude that at the 0.01 significance level there is enough \"\n",
    "      \"evidence to reject the null hypothesis\".format(p))"
   ]
  },
  {
   "cell_type": "markdown",
   "metadata": {},
   "source": [
    "---\n",
    "[Back to top](#top)\n",
    "<a id='p4'></a>\n",
    "\n",
    "### [20 points] Problem 4 - Grab bag!\n",
    "\n"
   ]
  },
  {
   "cell_type": "markdown",
   "metadata": {},
   "source": [
    "<img src=\"http://blog.localditch.com/wp-content/uploads/2011/01/sonic4.jpg\" style=\"width: 400px;\"/>\n",
    "\n",
    "**Part A**: You work for an engineering firm that has been hired to construct a corkscrew-shaped looped path for hedgehogs to run on and collect gold rings. Thousands of hedgehogs will run along this path each day, so structural failure means injury or death for many wonderful little creatures. \n",
    "\n",
    "You are in charge of quality control for the average strength of carbon fiber that will be used to construct the corkscrew path. Thinking back fondly to your days in CSCI 3022, you set up a hypothesis test in which your alternative hypothesis is that the strength of the carbon fiber is below tolerance, and therefore unsafe. What is the null hypothesis? Would you rather have a low Type I error rate or a low Type II error rate? Explain."
   ]
  },
  {
   "cell_type": "markdown",
   "metadata": {
    "collapsed": true
   },
   "source": [
    "**Answer A**\n",
    "<br>For the above scenario, our null hypothesis would be that the strength of the carbon fiber equals the tolerance level and is therefore safe. In this case we would want a low Type I error rate. We would much rather reject a safe corckscrew (Type II) than pass an unsafe one (Type I) as passing an unsafe corkscrew could result in unnecessary hedgehog tragedy. "
   ]
  },
  {
   "cell_type": "markdown",
   "metadata": {},
   "source": [
    "**Part B**: Amy, the famous hedgehog data scientist, is working for the same engineering firm as you. She is a legend around the office! Word around the water cooler is that out of all of the 95% confidence intervals that Amy has constructed, 931 of them have turned out to actually capture the true population mean. Since Amy is a data science wizard and you can be sure she is constructing her confidence intervals correctly and collecting and using her data honestly, about how many 95% confidence intervals would you expect her to have constructed total? Explain your reasoning fully with words as well as some math."
   ]
  },
  {
   "cell_type": "markdown",
   "metadata": {
    "collapsed": true
   },
   "source": [
    "**Answer B**\n",
    "<br>A 95% confidence interval tells us that through lots of random sampling, 95% of CI's calculated through those samples will contain the true mean. If we know that Amy has 931 CI's that contain the true mean, we can use some simple math to calculate the total number of CI's she constructed.\n",
    "$$\n",
    "\\text{Using simple ratios we get the following:} \\\\\n",
    "\\begin{align} \\\\\n",
    "\\frac{931}{x} &= \\frac{95}{100} \\\\\n",
    "95x &= 93100 \\\\\n",
    "x &= \\frac{93100}{95} \\\\\n",
    "x &= 980\n",
    "\\end{align}\n",
    "$$\n",
    "<br>From the math above we can conclude that Amy constructed 980 confidence intervals in total."
   ]
  },
  {
   "cell_type": "markdown",
   "metadata": {},
   "source": [
    "**Part C**: As part of an outreach program, you and Amy are visiting a local elementary school to talk to the students about data science. What a riot! One of the more astute students asks you a question: \"In general, which is wider: a 95% confidence interval or a 99% confidence interval?\"\n",
    "\n",
    "How would you explain this to these young students, who are not fluent in any kind of science? (So, for example, spouting off theory and words like \"mean\" and \"z critical value\" probably won't mean anything to them.)"
   ]
  },
  {
   "cell_type": "markdown",
   "metadata": {
    "collapsed": true
   },
   "source": [
    "**Answer C**\n",
    "<br>To explain this I would go to extremes. I would use an example that is obvious such as the weather. If I said that I am 99% confident that the temperature tomorrow will be between -100 degrees fahrenheit and 100 degrees farenheit that's a pretty wide range, especially considering the measurement is temperature. Then I would say that my friend is 1% confident that the temperature tomorrow will be between 55 and 55.5 degrees. I would then ask the students who's difference in temperatures is wider, my 99% guess or my friends 1% guess.  "
   ]
  },
  {
   "cell_type": "markdown",
   "metadata": {},
   "source": [
    "**Part D:** You observe a sample of 73 pygmy hedgehogs and find that 49 of them are fantastic pets. Then, you observe a sample of 58 long-eared hedgehogs and find that 51 of them are fantastic pets.\n",
    "\n",
    "Is there statistical evidence at the 0.05 significance level that the true proportion of long-eared hedgehogs that make fantastic pets is 10% higher than the true proportion of pygmy hedgehogs that make fantastic pets? Perform a test that computes and properly interprets a p-value."
   ]
  },
  {
   "cell_type": "markdown",
   "metadata": {
    "collapsed": true
   },
   "source": [
    "**Answer D**\n",
    "<br>To answer this question, we will once again use a hypothesis test to find our desired answer.\n",
    "$$\n",
    "H_0: \\hat{p}_1 - \\hat{p}_2 = 0.10\\\\\n",
    "H_1: \\hat{p}_1 - \\hat{p}_2 > 0.10\\\\\n",
    "\\alpha = 0.05 \\\\\n",
    "\\text{Using a 2-sample z-test, we can find our test statistic through the following formula} \\\\\n",
    "z = \\frac{\\hat{p}_1 - \\hat{p}_2 - 0.10}{\\sigma_{\\hat{p}_1 - \\hat{p}_2}} \\\\\n",
    "\\text{Plugging in our numbers we get } \\\\\n",
    "z = \\frac{\\frac{49}{73} - \\frac{51}{58} - 0.10}{\\sqrt{Var_1 + Var_2}} \\\\\n",
    "p_c = \\frac{49 + 51}{73 + 58} = 0.76 \\\\\n",
    "\\sqrt{Var_1 + Var_2} = \\sqrt{\\frac{0.76 \\cdot 0.24}{73} + \\frac{0.76 \\cdot 0.24}{58}} = \\sqrt{0.00564} = 0.0751 \\\\\n",
    "\\text{Now we can solve for our z} \\\\\n",
    "z = \\frac{0.671 - 0.879 - 0.10}{0.0751} = -4.10 \\\\\n",
    "\\text{We can solve for our p-value using the calculated z} \\\\\n",
    "p = 1 - \\Phi(-4.10) = 0.9999 \\\\\n",
    "$$\n",
    "<br>Because our p-value is much greater than our significance level, 0.05, we do not have enough evidence to reject our null hypothesis at the 0.05 significance level. "
   ]
  },
  {
   "cell_type": "code",
   "execution_count": 10,
   "metadata": {},
   "outputs": [
    {
     "name": "stdout",
     "output_type": "stream",
     "text": [
      "0.9999793424930875\n"
     ]
    }
   ],
   "source": [
    "p = stats.norm.cdf(-4.10)\n",
    "print(1 - p)"
   ]
  },
  {
   "cell_type": "markdown",
   "metadata": {},
   "source": [
    "**Part E**: Let $X$ be a normally-distributed random variable representing the difficulty of a homework problem in CSCI 3022. You draw from it more times than you care to count during the Spring 2019 semester and get the following values, stored in the numpy array **toughness**, below. Compute a 90% confidence interval for the _standard deviation_ in problem toughness."
   ]
  },
  {
   "cell_type": "code",
   "execution_count": 11,
   "metadata": {},
   "outputs": [],
   "source": [
    "toughness = np.array([7.7778,6.9459,5.8248,9.1111,6.0180,5.0898,7.0380,8.9273,2.9614,5.8387,6.0231])"
   ]
  },
  {
   "cell_type": "code",
   "execution_count": 27,
   "metadata": {},
   "outputs": [
    {
     "name": "stdout",
     "output_type": "stream",
     "text": [
      "### Bootstrap Resample CI ###\n",
      "Our 90% CI is: [1.0138, 2.1368]\n",
      "\n",
      "### Chi-Squared CI ###\n",
      "The 90% CI is: [0.4484, 2.0835]\n"
     ]
    }
   ],
   "source": [
    "# Bootstrap resample CI\n",
    "sd = []\n",
    "for _ in range(1000):\n",
    "    resamp = np.random.choice(toughness, size=len(toughness))\n",
    "    sd.append(np.std(resamp))\n",
    "ci = np.percentile(sd, [5, 95])\n",
    "print(\"### Bootstrap Resample CI ###\")\n",
    "print(\"Our 90% CI is: [{0:.4f}, {1:.4f}]\".format(ci[0], ci[1]))\n",
    "\n",
    "#Chi-squared CI\n",
    "n = len(toughness)\n",
    "num = n-1 * toughness.var()\n",
    "d1 = stats.chi2.ppf(0.05, df=n-1)\n",
    "d2 = stats.chi2.ppf(0.95, df=n-1)\n",
    "\n",
    "ci = (num/d2, num/d1)\n",
    "print(\"\\n### Chi-Squared CI ###\")\n",
    "print(\"The 90% CI is: [{0:.4f}, {1:.4f}]\".format(ci[0], ci[1]))"
   ]
  },
  {
   "cell_type": "markdown",
   "metadata": {},
   "source": [
    "---\n",
    "\n",
    "<a id='p5'></a>\n",
    "[Back to top](#top)\n",
    "\n",
    "### [20 points] Problem 5 - Lies, damned lies, and statistics\n",
    "\n",
    "![frazz](http://3.bp.blogspot.com/-SbQUWRfHFXk/VdN8YWAy0WI/AAAAAAAAJLw/Ij5E0CbYk6g/s1600/lies3.gif)\n",
    "\n",
    "Legend of your Data Science prowess has spread o'er the land. You have been contacted by a shadowy organization to assess whether there is statistical evidence for sea-level rise in the area of Key West, Florida. You obtain from the University of Hawaii Sea Level Center's [gigantic repository of sea-level data](https://uhslc.soest.hawaii.edu/data/?rq) the daily mean sea levels file included in the zip folder for this assignment. The columns are, in order, the year, month, day-of-month and measured sea level (in millimeters)."
   ]
  },
  {
   "cell_type": "markdown",
   "metadata": {},
   "source": [
    "**Part A:** Load the data `sealevel_keywest.csv` into a Pandas DataFrame. Rename the columns as something meaningful in the context of this problem. Print to the screen the first 7 rows from your updated DataFrame."
   ]
  },
  {
   "cell_type": "code",
   "execution_count": 4,
   "metadata": {},
   "outputs": [
    {
     "data": {
      "text/html": [
       "<div>\n",
       "<style scoped>\n",
       "    .dataframe tbody tr th:only-of-type {\n",
       "        vertical-align: middle;\n",
       "    }\n",
       "\n",
       "    .dataframe tbody tr th {\n",
       "        vertical-align: top;\n",
       "    }\n",
       "\n",
       "    .dataframe thead th {\n",
       "        text-align: right;\n",
       "    }\n",
       "</style>\n",
       "<table border=\"1\" class=\"dataframe\">\n",
       "  <thead>\n",
       "    <tr style=\"text-align: right;\">\n",
       "      <th></th>\n",
       "      <th>year</th>\n",
       "      <th>month</th>\n",
       "      <th>day</th>\n",
       "      <th>sealevel</th>\n",
       "    </tr>\n",
       "  </thead>\n",
       "  <tbody>\n",
       "    <tr>\n",
       "      <th>0</th>\n",
       "      <td>1913</td>\n",
       "      <td>1</td>\n",
       "      <td>20</td>\n",
       "      <td>1453</td>\n",
       "    </tr>\n",
       "    <tr>\n",
       "      <th>1</th>\n",
       "      <td>1913</td>\n",
       "      <td>1</td>\n",
       "      <td>21</td>\n",
       "      <td>1439</td>\n",
       "    </tr>\n",
       "    <tr>\n",
       "      <th>2</th>\n",
       "      <td>1913</td>\n",
       "      <td>1</td>\n",
       "      <td>22</td>\n",
       "      <td>1444</td>\n",
       "    </tr>\n",
       "    <tr>\n",
       "      <th>3</th>\n",
       "      <td>1913</td>\n",
       "      <td>1</td>\n",
       "      <td>23</td>\n",
       "      <td>1489</td>\n",
       "    </tr>\n",
       "    <tr>\n",
       "      <th>4</th>\n",
       "      <td>1913</td>\n",
       "      <td>1</td>\n",
       "      <td>24</td>\n",
       "      <td>1474</td>\n",
       "    </tr>\n",
       "    <tr>\n",
       "      <th>5</th>\n",
       "      <td>1913</td>\n",
       "      <td>1</td>\n",
       "      <td>25</td>\n",
       "      <td>1442</td>\n",
       "    </tr>\n",
       "    <tr>\n",
       "      <th>6</th>\n",
       "      <td>1913</td>\n",
       "      <td>1</td>\n",
       "      <td>26</td>\n",
       "      <td>1467</td>\n",
       "    </tr>\n",
       "  </tbody>\n",
       "</table>\n",
       "</div>"
      ],
      "text/plain": [
       "   year  month  day  sealevel\n",
       "0  1913      1   20      1453\n",
       "1  1913      1   21      1439\n",
       "2  1913      1   22      1444\n",
       "3  1913      1   23      1489\n",
       "4  1913      1   24      1474\n",
       "5  1913      1   25      1442\n",
       "6  1913      1   26      1467"
      ]
     },
     "execution_count": 4,
     "metadata": {},
     "output_type": "execute_result"
    }
   ],
   "source": [
    "labels = ['year', 'month', 'day', 'sealevel']\n",
    "df = pd.read_csv('sealevel_keywest.csv', names=labels)\n",
    "df.head(7)"
   ]
  },
  {
   "cell_type": "markdown",
   "metadata": {},
   "source": [
    "**Part B:**  Plot the raw time series of sea levels. Be sure to label your axes, including units. For the $x$-axis, place the $x$ tick marks on January 2 of each year that is divisible by 10 (i.e., 1920, 1930, ...), and label with that year. You may need to do additional processing in order to grab these indices. "
   ]
  },
  {
   "cell_type": "code",
   "execution_count": 5,
   "metadata": {
    "scrolled": false
   },
   "outputs": [
    {
     "data": {
      "image/png": "[encoded data removed]",
      "text/plain": [
       "<Figure size 1224x720 with 1 Axes>"
      ]
     },
     "metadata": {
      "needs_background": "light"
     },
     "output_type": "display_data"
    }
   ],
   "source": [
    "#ticks = df[(df['year'] % 10 == 0) & (df['month'] == 1) & (df['day'] == 2)]['year']\n",
    "#print(ticks)\n",
    "\n",
    "ticks = []\n",
    "names = []\n",
    "for _ in range(1920, 2020, 10):\n",
    "    date = np.datetime64(str(_) + '-01-02')\n",
    "    ticks.append(date)\n",
    "    names.append(str(_))\n",
    "\n",
    "fig, ax = plt.subplots(figsize= (17,10))\n",
    "ax.plot(pd.to_datetime(df[['year', 'month', 'day']]), df['sealevel']);\n",
    "ax.set_xlabel('Date', fontsize=12);\n",
    "ax.set_ylabel('Sea Level Measurement (millimeters)', fontsize=12);\n",
    "ax.set_title('Sea Level Time Series', fontsize=12);\n",
    "ax.set_xticks(ticks);\n",
    "ax.set_xticklabels(names);"
   ]
  },
  {
   "cell_type": "markdown",
   "metadata": {},
   "source": [
    "**Part C:** Your time series plot from Part B should look pretty funky. Namely, there are a bunch of spikes in it! What do you think these spikes represent?\n",
    "\n",
    "Now, clean your data set by doing the following:\n",
    "* Remove any data points associated with these spikes. You may need to look back to some of the earlier in-class notebooks and Pandas tutorials for how to drop data points from a Pandas DataFrame. \n",
    "* Include only the data point from the second day of each month.\n",
    "* Convert the sea-level data from millimeters to feet.\n",
    "\n",
    "Then, make a similar plot to Part B, but of your cleaned data set. Be sure to label axes (including units) and only label January 2 of each year that is divisible by 10."
   ]
  },
  {
   "cell_type": "code",
   "execution_count": 6,
   "metadata": {},
   "outputs": [
    {
     "data": {
      "image/png": "[encoded data removed]",
      "text/plain": [
       "<Figure size 648x504 with 1 Axes>"
      ]
     },
     "metadata": {
      "needs_background": "light"
     },
     "output_type": "display_data"
    }
   ],
   "source": [
    "ticks = []\n",
    "names = []\n",
    "for _ in range(1920, 2020, 10):\n",
    "    date = np.datetime64(str(_) + '-01-02')\n",
    "    ticks.append(date)\n",
    "    names.append(str(_))\n",
    "\n",
    "df_clean = df[(df['sealevel'] >= 0) & (df['day'] == 2)]\n",
    "df_clean = df_clean.copy()\n",
    "df_clean['sealevel'] = df['sealevel'] * 0.00328084\n",
    "fig, ax = plt.subplots(figsize=(9, 7))\n",
    "ax.plot(pd.to_datetime(df_clean[['year', 'month', 'day']]), df_clean['sealevel']);\n",
    "ax.set_xlabel('Year', fontsize=12);\n",
    "ax.set_ylabel('Sea-level (feet)', fontsize=12);\n",
    "ax.set_title('Key-West Sea Level', fontsize=12);\n",
    "ax.set_xticks(ticks);\n",
    "ax.set_xticklabels(names);"
   ]
  },
  {
   "cell_type": "markdown",
   "metadata": {},
   "source": [
    "**Part D:** Your mysterious employer owns a lot of beachfront property in Key West and does not want to see people shy away from buying real estate and spending time near the sea. So, they really want to convince others to that the mean sea level in Key West in not increasing. Toward this end, your employer wants to find a decade of data (11 years, including both end points) that has a mean sea level which is not statistically significantly different from the mean sea level in the decade 2000-2010 (including data from both 2000 and 2010). Your employer wants you to use the 99% confidence/1% significance level because it sounds catchy in a press release, and wants the *earliest* decade possible.\n",
    "\n",
    "Use your cleaned monthly data set from Part C to find the earliest decade for which you cannot conclude the mean sea level at Key West was statistically significantly different from the mean sea level in the 2000-2010 decade. You may want to write a helper function to compute the confidence intervals/perform the hypothesis test for you, because there are a LOT of possible 11-year periods to try.\n",
    "\n",
    "You may use either hypothesis tests or confidence intervals, but clearly state which method you will use, your results and show all work that leads to your conclusion. "
   ]
  },
  {
   "cell_type": "code",
   "execution_count": null,
   "metadata": {
    "collapsed": true
   },
   "outputs": [],
   "source": []
  }
 ],
 "metadata": {
  "kernelspec": {
   "display_name": "Python 3",
   "language": "python",
   "name": "python3"
  },
  "language_info": {
   "codemirror_mode": {
    "name": "ipython",
    "version": 3
   },
   "file_extension": ".py",
   "mimetype": "text/x-python",
   "name": "python",
   "nbconvert_exporter": "python",
   "pygments_lexer": "ipython3",
   "version": "3.7.1"
  }
 },
 "nbformat": 4,
 "nbformat_minor": 2
}
