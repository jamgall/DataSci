{
 "cells": [
  {
   "cell_type": "markdown",
   "metadata": {},
   "source": [
    "# Notebook 12: The Normal Distribution\n",
    "***\n",
    "\n",
    "We'll need Numpy, Matplotlib, and maybe Pandas for this notebook, so let's load them. "
   ]
  },
  {
   "cell_type": "code",
   "execution_count": 1,
   "metadata": {},
   "outputs": [],
   "source": [
    "import numpy as np \n",
    "import matplotlib.pylab as plt \n",
    "#from scipy.stats import norm\n",
    "import scipy.stats as stats\n",
    "import math\n",
    "import pandas as pd \n",
    "%matplotlib inline"
   ]
  },
  {
   "cell_type": "markdown",
   "metadata": {},
   "source": [
    "### Exercise 1 - Sampling from the Normal Distribution with Python \n",
    "*** \n",
    "\n",
    "**Part A**: Draw at least $10000$ samples from the distribution $N(0,1)$ and store the results in a variable called $z$.  Make a density histogram of $z$. Set the $x$-limits for your plot to $[-10,10]$ and your $y$-limits to $[0,0.5]$ so we can compare with the plots we'll generate in **Parts B-D**."
   ]
  },
  {
   "cell_type": "code",
   "execution_count": 21,
   "metadata": {},
   "outputs": [],
   "source": [
    "z = stats.norm.rvs(loc=0, scale=1, size=10000)"
   ]
  },
  {
   "cell_type": "code",
   "execution_count": 51,
   "metadata": {},
   "outputs": [
    {
     "data": {
      "image/png": "[encoded data removed]",
      "text/plain": [
       "<Figure size 432x288 with 1 Axes>"
      ]
     },
     "metadata": {
      "needs_background": "light"
     },
     "output_type": "display_data"
    }
   ],
   "source": [
    "_ = plt.hist(z, density=True, edgecolor='black', facecolor='peru')\n",
    "_ = plt.xlim([-10,10])\n",
    "_ = plt.ylim([0,0.5])\n",
    "_ = plt.ylabel('Density')\n",
    "_ = plt.xlabel('Z')"
   ]
  },
  {
   "cell_type": "markdown",
   "metadata": {},
   "source": [
    "**Part B**: Look back at the documentation from your function for generating samples from $N(0,1)$.  Modify your code (copy-paste) from **Part A** to draw samples from a normal distribution with parameters $\\mu=3$ and $\\sigma^2 = 4$, i.e. $N(3,4)$, and store the results in a variable called $x$. Make a density histogram with the same axes limits.  Does your picture seem right based on the changes to the parameters of the distribution? "
   ]
  },
  {
   "cell_type": "code",
   "execution_count": 52,
   "metadata": {},
   "outputs": [],
   "source": [
    "x = stats.norm.rvs(loc=3, scale=np.sqrt(4), size=10000)"
   ]
  },
  {
   "cell_type": "code",
   "execution_count": 53,
   "metadata": {},
   "outputs": [
    {
     "data": {
      "image/png": "[encoded data removed]",
      "text/plain": [
       "<Figure size 432x288 with 1 Axes>"
      ]
     },
     "metadata": {
      "needs_background": "light"
     },
     "output_type": "display_data"
    }
   ],
   "source": [
    "_ = plt.hist(x, density=True, edgecolor='black', facecolor='peru')\n",
    "_ = plt.xlim([-10,10])\n",
    "_ = plt.ylim([0,0.5])\n",
    "_ = plt.ylabel('Density')\n",
    "_ = plt.xlabel('X')"
   ]
  },
  {
   "cell_type": "markdown",
   "metadata": {},
   "source": [
    "**Part C**: Now suppose we are only able to sample from $N(0,1)$.  Could we take those samples and perform a simple transformation so that they're samples from $N(3,4)$? Try a few basic transformations on your array $z$ from **Part A** and store the results in a variable $y$.  Then make a density histogram of $y$ with the same axes limits (again, copy-paste).  Does your histogram based on the transformed data look like the histogram from **Part B**?  "
   ]
  },
  {
   "cell_type": "code",
   "execution_count": 57,
   "metadata": {},
   "outputs": [
    {
     "data": {
      "image/png": "[encoded data removed]",
      "text/plain": [
       "<Figure size 432x288 with 1 Axes>"
      ]
     },
     "metadata": {
      "needs_background": "light"
     },
     "output_type": "display_data"
    }
   ],
   "source": [
    "mu = 3\n",
    "var = 4\n",
    "sigma = np.sqrt(var)\n",
    "# z is sampled from N(0,1) above\n",
    "# transform into x ~ N(mu, var) using ...\n",
    "y = z*sigma+mu\n",
    "_ = plt.hist(y, density=True, edgecolor='black', facecolor='peru', label='Y', alpha=0.5)\n",
    "_ = plt.hist(x, density=True, edgecolor='coral', facecolor='black', label='X', alpha=0.5)\n",
    "_ = plt.xlim([-10,10])\n",
    "_ = plt.ylim([0,0.5])\n",
    "_ = plt.ylabel('Density')\n",
    "_ = plt.xlabel('Random Variables')\n",
    "_ = plt.legend()"
   ]
  },
  {
   "cell_type": "markdown",
   "metadata": {},
   "source": [
    "**Part D**: Okey dokey, going from $N(0,1)$ to $N(3,4)$ was the easy direction, but can you go back the other way.  Can you take the $N(3,4)$ samples you have stored in $v$ from **Part B** and transform them into samples from $N(0,1)$?  Try a few transformations and store them in a variable called $v$ and make a density histogram of your transformed data . Does it look like the plot of sampled $N(0,1)$ data from **Part A**? "
   ]
  },
  {
   "cell_type": "code",
   "execution_count": 62,
   "metadata": {},
   "outputs": [
    {
     "data": {
      "image/png": "[encoded data removed]",
      "text/plain": [
       "<Figure size 432x288 with 1 Axes>"
      ]
     },
     "metadata": {
      "needs_background": "light"
     },
     "output_type": "display_data"
    }
   ],
   "source": [
    "v = (y-mu)/sigma\n",
    "_ = plt.hist(v, density=True, edgecolor='black', label='V', alpha=0.5)\n",
    "_ = plt.hist(z, density=True, edgecolor='black', facecolor='red', label='Z', alpha=0.5)\n",
    "_ = plt.xlim([-10,10])\n",
    "_ = plt.ylim([0,0.5])\n",
    "_ = plt.ylabel('Density')\n",
    "_ = plt.xlabel('Random Variables')\n",
    "_ = plt.legend()"
   ]
  },
  {
   "cell_type": "markdown",
   "metadata": {},
   "source": [
    "**Part E**: Next let's overlay the density function for $N(3,4)$ over our histogram and check that everything looks good.  Look up the documentation for Scipy.stats's [normal random variable](https://docs.scipy.org/doc/scipy/reference/generated/scipy.stats.norm.html). The object scipy.stats.norm implements all kinds of cool functions related to the normal distribution, including: pdf, cdf and ppf.  Use the scipy.stats.norm pdf function to plot a density function overlay over your histogram from **Part B**. "
   ]
  },
  {
   "cell_type": "code",
   "execution_count": null,
   "metadata": {},
   "outputs": [],
   "source": []
  },
  {
   "cell_type": "markdown",
   "metadata": {},
   "source": [
    "### Exercise 2 - Probabilities and Critical Values\n",
    "*** \n",
    "\n",
    "\n",
    "Let $Z$ be a standard normal random variable, i.e. $Z \\sim N(0,1)$.  \n",
    "\n",
    "**Part A**: Use scipy.stats.norm to compute $P(Z \\leq 1.25)$ and $P(Z \\geq 1.25)$. "
   ]
  },
  {
   "cell_type": "code",
   "execution_count": 68,
   "metadata": {},
   "outputs": [
    {
     "name": "stdout",
     "output_type": "stream",
     "text": [
      "P(Z <= 1.25): 89.44%\n",
      "P(Z >= 1.25): 10.56%\n",
      "P(Z >= 1.25): 10.56%\n"
     ]
    }
   ],
   "source": [
    "print(\"P(Z <= 1.25): {0:.2%}\".format(stats.norm.cdf(1.25)))\n",
    "print(\"P(Z >= 1.25): {0:.2%}\".format(1-stats.norm.cdf(1.25)))\n",
    "print(\"P(Z >= 1.25): {0:.2%}\".format(stats.norm.sf(1.25))) # sf = survival function"
   ]
  },
  {
   "cell_type": "markdown",
   "metadata": {},
   "source": [
    "**Part B**: Use Python to find the critical value $z_\\alpha$ corresponding to a tail with probability mass $0.05$.  That is, the value of $z_\\alpha$ such that $P(Z \\geq z_\\alpha) = 0.05$. "
   ]
  },
  {
   "cell_type": "code",
   "execution_count": 75,
   "metadata": {},
   "outputs": [
    {
     "name": "stdout",
     "output_type": "stream",
     "text": [
      "z_alpha=1.6449 has 0.05 probability to the right of it\n"
     ]
    }
   ],
   "source": [
    "alpha = 0.05\n",
    "# 1-alpha = 0.95\n",
    "# 0.95 = P(z <= z_alpha)\n",
    "# 0.95 = F(z_alpha)\n",
    "# ppf(0.95) = z_alpha\n",
    "print(\"z_alpha={0:.4f} has {1:.2f} probability to the right of it\".format(stats.norm.ppf(1-alpha), alpha)) # ppf is inverse of CDF"
   ]
  },
  {
   "cell_type": "markdown",
   "metadata": {},
   "source": [
    "**Part C**: Suppose you want to find $z_\\alpha$ such that $P(-z_\\alpha \\leq Z \\leq z_\\alpha) = 0.95$.  What is the value of $z_\\alpha$ that accomplishes this, and in particular, what is the corresponding value of $\\alpha$? "
   ]
  },
  {
   "cell_type": "code",
   "execution_count": null,
   "metadata": {
    "collapsed": true
   },
   "outputs": [],
   "source": []
  },
  {
   "cell_type": "markdown",
   "metadata": {},
   "source": [
    "### Exercise 3  - Standard Deviations and Grading Curves\n",
    "*** \n",
    "\n",
    "The following picture depicts the much-often spouted facts in statistics classes that roughly $68\\%$ of the probability for a normal distribution falls within 1 standard deviation of the mean, roughly $95\\%$ falls within two standard deviations of the mean, etc \n",
    "\n",
    "![alt text](https://upload.wikimedia.org/wikipedia/commons/thumb/8/8c/Standard_deviation_diagram.svg/400px-Standard_deviation_diagram.svg.png)\n",
    "\n",
    "\n",
    "**Part A**: Verify the first fact, that roughly $68\\%$ of the probability in the standard normal distribution falls between $\\mu-\\sigma = -1$ and $\\mu+\\sigma = 1$. \n"
   ]
  },
  {
   "cell_type": "code",
   "execution_count": null,
   "metadata": {
    "collapsed": true
   },
   "outputs": [],
   "source": []
  },
  {
   "cell_type": "markdown",
   "metadata": {},
   "source": [
    "**Part B**: Verify the second fact, that roughly $95\\%$ of the probability in the standard normal distribution falls between $\\mu-2\\sigma = -2$ and $\\mu+2\\sigma = 2$. "
   ]
  },
  {
   "cell_type": "code",
   "execution_count": null,
   "metadata": {
    "collapsed": true
   },
   "outputs": [],
   "source": []
  },
  {
   "cell_type": "markdown",
   "metadata": {},
   "source": [
    "**Part C**: Suppose you have grades from a Calculus exam that roughly follow a normal distribution with mean $70$ and standard deviation $15$.  What percentage of the students earned C's and B's (count things like $C$-'s and $B$+'s as $C$'s and $B$'s, etc.)?"
   ]
  },
  {
   "cell_type": "code",
   "execution_count": null,
   "metadata": {
    "collapsed": true
   },
   "outputs": [],
   "source": []
  },
  {
   "cell_type": "markdown",
   "metadata": {},
   "source": [
    "**Part D**: A common curving scheme in university courses is to set the Pass mark of a class at $\\mu - 1.5\\sigma$.  That is, if the overall mean of the course is low, instead of holding back people with grades of $69$ or lower, professors will lower the cutoff point to $\\mu - 1.5\\sigma$.  (Of course, if the mean of the course is higher than usual we don't apply this rule, because we're not monsters). If the grades at the end of a course roughly follow a normal distribution with mean $70$ and standard deviation $15$, what is the cutoff point for passing the class?  What percentage of students will pass the class?  "
   ]
  },
  {
   "cell_type": "code",
   "execution_count": null,
   "metadata": {
    "collapsed": true
   },
   "outputs": [],
   "source": []
  },
  {
   "cell_type": "markdown",
   "metadata": {},
   "source": [
    "**Part E**: Repeat the calculations you did in **Parts C** and **E** by first transforming to a standard normal distribution. "
   ]
  },
  {
   "cell_type": "code",
   "execution_count": null,
   "metadata": {
    "collapsed": true
   },
   "outputs": [],
   "source": []
  },
  {
   "cell_type": "markdown",
   "metadata": {},
   "source": [
    "### Exercise 4 - Sampling from the Standard Normal with Box-Muller \n",
    "*** \n",
    "\n",
    "If you have to draw samples from a normal distribution in a non-prototyping language you might have to roll your own.  Most languages provide a method for sampling from the uniform distribution $U[0,1]$. In C++, for instance, you can generate draws from $U[0,1]$ as follows"
   ]
  },
  {
   "cell_type": "code",
   "execution_count": null,
   "metadata": {
    "collapsed": true
   },
   "outputs": [],
   "source": [
    "#include <stdlib.h>\n",
    "\n",
    "double uniformZeroOne()\n",
    "{\n",
    "    return rand() / (RAND_MAX + 1.);\n",
    "}"
   ]
  },
  {
   "cell_type": "markdown",
   "metadata": {},
   "source": [
    "The so-called [Box-Muller Transformation](https://en.wikipedia.org/wiki/Box%E2%80%93Muller_transform) can be used to take random draws from $U[0,1]$ and produce random draws from $N(0,1)$. Look at the Wiki page for Box-Muller and then see if you can implement it.\n",
    "\n",
    "**Part A**: Write a function box_muller with argument size that implements the Box-Muller transformation by sampling from values in $U[0,1]$ and returns size samples from $N(0,1)$. \n"
   ]
  },
  {
   "cell_type": "code",
   "execution_count": null,
   "metadata": {
    "collapsed": true
   },
   "outputs": [],
   "source": []
  },
  {
   "cell_type": "markdown",
   "metadata": {},
   "source": [
    "**Part B**: Use your function from **Part A** to draw at least 10000 samples from $N(0,1)$ and make a histogram. Then use norm.pdf to overlay the standard normal density curve over your histogram and check your work. "
   ]
  },
  {
   "cell_type": "code",
   "execution_count": null,
   "metadata": {
    "collapsed": true
   },
   "outputs": [],
   "source": []
  }
 ],
 "metadata": {
  "kernelspec": {
   "display_name": "Python 3",
   "language": "python",
   "name": "python3"
  },
  "language_info": {
   "codemirror_mode": {
    "name": "ipython",
    "version": 3
   },
   "file_extension": ".py",
   "mimetype": "text/x-python",
   "name": "python",
   "nbconvert_exporter": "python",
   "pygments_lexer": "ipython3",
   "version": "3.7.1"
  }
 },
 "nbformat": 4,
 "nbformat_minor": 2
}
